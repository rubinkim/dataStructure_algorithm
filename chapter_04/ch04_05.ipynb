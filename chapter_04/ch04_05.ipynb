{
 "cells": [
  {
   "cell_type": "markdown",
   "metadata": {},
   "source": [
    "##### 단순 연결 리스트에서 자료 검색"
   ]
  },
  {
   "cell_type": "code",
   "execution_count": 1,
   "metadata": {},
   "outputs": [],
   "source": [
    "# 클래스와 함수 선언 부분\n",
    "from readline import insert_text\n",
    "\n",
    "\n",
    "class Node():\n",
    "    def __init__(self):\n",
    "        self.data = None\n",
    "        self.link = None\n",
    "        \n",
    "def printNodes(start):\n",
    "    current = start\n",
    "    if current == None:\n",
    "        return\n",
    "    print(current.data, end=' ')\n",
    "    \n",
    "    while(current.link):\n",
    "        current = current.link\n",
    "        print(current.data, end=' ')\n",
    "    print()\n",
    "    \n",
    "def insertNode(findData, insertData):         # findData앞에 insertData를 삽입한다.\n",
    "    global memory, head, pre, current\n",
    "    \n",
    "    # 맨앞에 indsetData를 삽입하는 경우\n",
    "    if head.data == findData:\n",
    "        node = Node()\n",
    "        node.data = insertData\n",
    "        node.link = head\n",
    "        head = node\n",
    "        return\n",
    "    \n",
    "    # 중간에 findData앞에 insertData를 삽입하는 경우\n",
    "    current = head\n",
    "    while(current.link):\n",
    "        pre = current\n",
    "        current = current.link\n",
    "        if current.data == findData:\n",
    "            node = Node()\n",
    "            node.data = insertData\n",
    "            node.link = current\n",
    "            pre.link = node\n",
    "            return\n",
    "        \n",
    "    # 마지막 노드로 insertData를 삽입하는 경우\n",
    "    node = Node()\n",
    "    node.data = insertData\n",
    "    current.link = node\n",
    "    \n",
    "def deleteNode(deleteData):\n",
    "    global memory, head, current, pre\n",
    "    \n",
    "    # 첫번째 노드 삭제\n",
    "    if head.data == deleteData:\n",
    "        current = head\n",
    "        head = head.link\n",
    "        del current\n",
    "        return\n",
    "    \n",
    "    current = head\n",
    "    while(current.link):\n",
    "        pre = current\n",
    "        current = current.link\n",
    "        if current.data == deleteData:\n",
    "            pre.link = current.link\n",
    "            del current\n",
    "            return       "
   ]
  },
  {
   "cell_type": "code",
   "execution_count": 2,
   "metadata": {},
   "outputs": [],
   "source": [
    "# 전역 변수 선언 부분\n",
    "memory = []\n",
    "head, current, pre = None, None, None\n",
    "\n",
    "dataArray = ['다현','정연','쯔위','사나','지효']"
   ]
  },
  {
   "cell_type": "code",
   "execution_count": 3,
   "metadata": {},
   "outputs": [
    {
     "name": "stdout",
     "output_type": "stream",
     "text": [
      "다현 정연 쯔위 사나 지효 \n",
      "정연 쯔위 사나 지효 \n",
      "정연 사나 지효 \n",
      "정연 사나 \n",
      "정연 사나 \n"
     ]
    }
   ],
   "source": [
    "# 메인 코드 부분\n",
    "if __name__ == \"__main__\":\n",
    "    \n",
    "    node = Node()\n",
    "    node.data = dataArray[0]\n",
    "    head = node\n",
    "    memory.append(node)\n",
    "    \n",
    "    for data in dataArray[1:]:\n",
    "        pre = node\n",
    "        node = Node()\n",
    "        node.data = data\n",
    "        pre.link = node\n",
    "        memory.append(node)\n",
    "        \n",
    "    printNodes(head)\n",
    "    \n",
    "    deleteNode(\"다현\")\n",
    "    printNodes(head)\n",
    "    \n",
    "    deleteNode(\"쯔위\")\n",
    "    printNodes(head)\n",
    "    \n",
    "    deleteNode(\"지효\")\n",
    "    printNodes(head)\n",
    "    \n",
    "    deleteNode(\"재남\")\n",
    "    printNodes(head)"
   ]
  },
  {
   "cell_type": "code",
   "execution_count": 11,
   "metadata": {},
   "outputs": [],
   "source": [
    "# Page 144 노드 검색 : 완성된 단순연결리스트에서 노드를 검색하는 방식을 구현한다. 검색할 데이터의 노드를 반환하는 \n",
    "# 방식으로 처리한다.\n",
    "# 1)current를 첫번째 노드인 head와 동일하게 만들고 current가 검색할 데이터인지 비교해서 그렇다면 current를 반환한다.\n",
    "# 2)current를 다음노드로 이동하고 검색할 데이터와 동일하다면 current를 반환한다.\n",
    "# 3)위의 2단계를 끝까지 진행하고 검색할 데이터를 찾지 못했다면 None을 반환한다.\n",
    "\n",
    "def findNode(findData):\n",
    "    global memory, head, current, pre\n",
    "    \n",
    "    current = head\n",
    "    if current.data == findData:\n",
    "        return current\n",
    "    while(current.link):\n",
    "        current = current.link\n",
    "        if current.data == findData:\n",
    "            return current\n",
    "    return Node()     # 빈도드 반환"
   ]
  },
  {
   "cell_type": "code",
   "execution_count": 22,
   "metadata": {},
   "outputs": [],
   "source": [
    "# 전역 변수 선언 부분\n",
    "memory = []\n",
    "head, current, pre = None, None, None\n",
    "\n",
    "dataArray = ['다현','정연','쯔위','사나','지효']"
   ]
  },
  {
   "cell_type": "code",
   "execution_count": 23,
   "metadata": {},
   "outputs": [
    {
     "name": "stdout",
     "output_type": "stream",
     "text": [
      "다현 정연 쯔위 사나 지효 \n",
      "찾으려는 데이터는 전체 단순연결리스트에서 1번째이고 그 노드의 데이터는 다현이다.\n",
      "찾으려는 데이터는 다현이고 그 다음 데이터는 정연이다.\n"
     ]
    }
   ],
   "source": [
    "# 메인 코드 부분\n",
    "if __name__ == \"__main__\":\n",
    "    node = Node()\n",
    "    node.data = dataArray[0]\n",
    "    head = node\n",
    "    memory.append(node)\n",
    "    \n",
    "for data in dataArray[1:]:\n",
    "    pre = node\n",
    "    node = Node()\n",
    "    node.data = data\n",
    "    pre.link = node\n",
    "    memory.append(node)\n",
    "    \n",
    "printNodes(head)\n",
    "\n",
    "fNode = findNode(\"다현\")\n",
    "print(f\"찾으려는 데이터는 전체 단순연결리스트에서 {memory.index(fNode) + 1}번째이고 \\\n",
    "그 노드의 데이터는 {fNode.data}이다.\")\n",
    "print(f\"찾으려는 데이터는 {fNode.data}이고 그 다음 데이터는 {fNode.link.data}이다.\")"
   ]
  },
  {
   "cell_type": "code",
   "execution_count": null,
   "metadata": {},
   "outputs": [],
   "source": []
  }
 ],
 "metadata": {
  "kernelspec": {
   "display_name": "Python 3.9.12 ('base')",
   "language": "python",
   "name": "python3"
  },
  "language_info": {
   "codemirror_mode": {
    "name": "ipython",
    "version": 3
   },
   "file_extension": ".py",
   "mimetype": "text/x-python",
   "name": "python",
   "nbconvert_exporter": "python",
   "pygments_lexer": "ipython3",
   "version": "3.9.12"
  },
  "orig_nbformat": 4,
  "vscode": {
   "interpreter": {
    "hash": "9e765a96e5f40489db376370017179d79de916a29247b681d0d65e2e01ae9302"
   }
  }
 },
 "nbformat": 4,
 "nbformat_minor": 2
}
