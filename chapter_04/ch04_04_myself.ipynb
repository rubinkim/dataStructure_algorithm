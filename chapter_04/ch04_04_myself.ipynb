{
 "cells": [
  {
   "cell_type": "markdown",
   "metadata": {},
   "source": [
    "##### Singly Linked List 혼자 만들어 보기"
   ]
  },
  {
   "cell_type": "code",
   "execution_count": 49,
   "metadata": {},
   "outputs": [],
   "source": [
    "# 클래스 선언 및 함수 생성 부분\n",
    "# 클래스 선언\n",
    "class Node:\n",
    "    def __init__(self):\n",
    "        self.data = None\n",
    "        self.link = None\n",
    "        \n",
    "# printNodes(start) 함수 생성 부분\n",
    "def printNodes(start):\n",
    "    current = start\n",
    "    print(current.data, end=' ')\n",
    "    \n",
    "    while(current.link):\n",
    "        current = current.link\n",
    "        print(current.data, end=' ')\n",
    "    print()\n",
    "    \n",
    "# 새로운 노드 삽입하기\n",
    "\n",
    "def insertNode(findData, insertData):\n",
    "    # 맨앞에 삽입하기\n",
    "    global head, current, pre\n",
    "    current = head\n",
    "    if current.data == findData:\n",
    "        node = Node()\n",
    "        node.data = insertData\n",
    "        node.link = head\n",
    "        head = node\n",
    "        return\n",
    "               \n",
    "    # 중간에 삽입하기\n",
    "    while(current.data != findData):\n",
    "        current = current.link\n",
    "    node = Node()\n",
    "    node.data = insertData\n",
    "    node.link = current.link\n",
    "    current.link = node\n",
    "    return      "
   ]
  },
  {
   "cell_type": "code",
   "execution_count": null,
   "metadata": {},
   "outputs": [],
   "source": []
  },
  {
   "cell_type": "code",
   "execution_count": null,
   "metadata": {},
   "outputs": [],
   "source": []
  },
  {
   "cell_type": "code",
   "execution_count": null,
   "metadata": {},
   "outputs": [],
   "source": []
  },
  {
   "cell_type": "code",
   "execution_count": 75,
   "metadata": {},
   "outputs": [],
   "source": [
    "# 클래스 선언 및 함수 생성 부분\n",
    "# 클래스 선언\n",
    "class Node:\n",
    "    def __init__(self):\n",
    "        self.data = None\n",
    "        self.link = None\n",
    "        \n",
    "# printNodes(start) 함수 생성 부분\n",
    "def printNodes(start):\n",
    "    current = start\n",
    "    print(current.data, end=' ')\n",
    "    \n",
    "    while(current.link):\n",
    "        current = current.link\n",
    "        print(current.data, end=' ')\n",
    "    print()\n",
    "    \n",
    "# 새로운 노드 삽입하기\n",
    "\n",
    "def insertNode(findData, insertData):\n",
    "    # 맨앞에 삽입하기\n",
    "    global head, current, pre\n",
    "    current = head\n",
    "    if current.data == findData:\n",
    "        node = Node()\n",
    "        node.data = insertData\n",
    "        node.link = head\n",
    "        head = node\n",
    "        return        \n",
    "               \n",
    "    # 중간에 삽입하기\n",
    "    while(current.data != findData):\n",
    "        current = current.link\n",
    "        \n",
    "        print(current.data)\n",
    "        if current.data == findData:\n",
    "            node = Node()\n",
    "            node.data = insertData\n",
    "            node.link = current\n",
    "            return\n",
    "             "
   ]
  },
  {
   "cell_type": "code",
   "execution_count": 76,
   "metadata": {},
   "outputs": [],
   "source": [
    "# 변수 도입 부분\n",
    "memory = []\n",
    "current, pre, head = None, None, None\n",
    "dataArray = [\"Sopranos\", \"BreakingAway\", \"TheWire\", \"TrueDetectives\"]"
   ]
  },
  {
   "cell_type": "code",
   "execution_count": 77,
   "metadata": {},
   "outputs": [
    {
     "name": "stdout",
     "output_type": "stream",
     "text": [
      "Sopranos BreakingAway TheWire TrueDetectives \n",
      "\n",
      "Sopranos BreakingAway TheWire TrueDetectives "
     ]
    }
   ],
   "source": [
    "# 실행 부분\n",
    "if __name__ == \"__main__\":\n",
    "    node = Node()\n",
    "    node.data = dataArray[0]\n",
    "    head = node\n",
    "    memory.append(node)\n",
    "    \n",
    "    for data in dataArray[1:]:\n",
    "        pre = node\n",
    "        node = Node()\n",
    "        node.data = data\n",
    "        pre.link = node\n",
    "        memory.append(node)\n",
    "        \n",
    "printNodes(head)\n",
    "print()\n",
    "\n",
    "for node in memory:\n",
    "    print(node.data, end=' ')"
   ]
  },
  {
   "cell_type": "code",
   "execution_count": 78,
   "metadata": {},
   "outputs": [
    {
     "data": {
      "text/plain": [
       "'Sopranos'"
      ]
     },
     "execution_count": 78,
     "metadata": {},
     "output_type": "execute_result"
    }
   ],
   "source": [
    "head.data"
   ]
  },
  {
   "cell_type": "code",
   "execution_count": 79,
   "metadata": {},
   "outputs": [
    {
     "name": "stdout",
     "output_type": "stream",
     "text": [
      "Law&Order Sopranos BreakingAway TheWire TrueDetectives \n"
     ]
    }
   ],
   "source": [
    "insertNode(\"Sopranos\", \"Law&Order\")\n",
    "printNodes(head)"
   ]
  },
  {
   "cell_type": "code",
   "execution_count": 80,
   "metadata": {},
   "outputs": [
    {
     "name": "stdout",
     "output_type": "stream",
     "text": [
      "Sopranos\n",
      "BreakingAway\n",
      "TheWire\n",
      "Law&Order Sopranos BreakingAway TheWire TrueDetectives \n"
     ]
    }
   ],
   "source": [
    "insertNode(\"TheWire\", \"FBI\")\n",
    "printNodes(head)"
   ]
  },
  {
   "cell_type": "code",
   "execution_count": null,
   "metadata": {},
   "outputs": [],
   "source": []
  }
 ],
 "metadata": {
  "kernelspec": {
   "display_name": "Python 3.9.12 ('base')",
   "language": "python",
   "name": "python3"
  },
  "language_info": {
   "codemirror_mode": {
    "name": "ipython",
    "version": 3
   },
   "file_extension": ".py",
   "mimetype": "text/x-python",
   "name": "python",
   "nbconvert_exporter": "python",
   "pygments_lexer": "ipython3",
   "version": "3.9.12"
  },
  "orig_nbformat": 4,
  "vscode": {
   "interpreter": {
    "hash": "9e765a96e5f40489db376370017179d79de916a29247b681d0d65e2e01ae9302"
   }
  }
 },
 "nbformat": 4,
 "nbformat_minor": 2
}
