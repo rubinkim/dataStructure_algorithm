{
 "cells": [
  {
   "cell_type": "code",
   "execution_count": 2,
   "metadata": {},
   "outputs": [],
   "source": [
    "# 클래스와 주요 함수 선언 부분\n",
    "\n",
    "# Node 클래스 선언\n",
    "class Node:\n",
    "    def __init__(self):\n",
    "        self.data = None\n",
    "        self.link = None\n",
    "        \n",
    "# printNodes() 함수 선언\n",
    "def printNodes(start):\n",
    "    current = start\n",
    "    if current.link == None:\n",
    "        return\n",
    "    print(current.data, end=' ')\n",
    "    \n",
    "    while current.link != start:\n",
    "        current = current.link\n",
    "        print(current.data, end=' ')\n",
    "    print()\n",
    "    \n",
    "# insertNode() 함수 선언 \n",
    "def insertNode(findData, insertData):\n",
    "    global memory, head, current, pre\n",
    "    \n",
    "    if head.data == findData:\n",
    "        node = Node()\n",
    "        node.data = insertData\n",
    "        node.link = head \n",
    "        head = node\n",
    "        last = head\n",
    "        while last.link != head:\n",
    "            last = last.link\n",
    "        last.link = head \n",
    "        return\n",
    "    \n",
    "    current = head \n",
    "    while current.link != head:\n",
    "        pre = current\n",
    "        current = current.link\n",
    "        if current.data == findData:\n",
    "            node = Node()\n",
    "            node.data = insertData\n",
    "            pre.link = node\n",
    "            node.link = current\n",
    "            return\n",
    "        \n",
    "    node = Node()\n",
    "    node.data = insertData\n",
    "    current.link = node\n",
    "    node.link = head \n",
    "    \n",
    "#                  "
   ]
  },
  {
   "cell_type": "code",
   "execution_count": 4,
   "metadata": {},
   "outputs": [],
   "source": [
    "# 전역 변수 선언 부분\n",
    "memory = []\n",
    "head, current, pre = None, None, None\n",
    "dataArray = ['다현', '정연', '쯔위', '사나', '지효']"
   ]
  },
  {
   "cell_type": "code",
   "execution_count": 5,
   "metadata": {},
   "outputs": [
    {
     "name": "stdout",
     "output_type": "stream",
     "text": [
      "다현 정연 쯔위 사나 지효 \n"
     ]
    }
   ],
   "source": [
    "# 메인 코드 선언 부분\n",
    "if __name__ == \"__main__\":\n",
    "    node = Node()\n",
    "    node.data = dataArray[0]\n",
    "    head = node\n",
    "    node.link = head\n",
    "    memory.append(node)\n",
    "    \n",
    "    for data in dataArray[1:]:\n",
    "        pre = node\n",
    "        node = Node()\n",
    "        node.data = data\n",
    "        pre.link = node\n",
    "        node.link = head\n",
    "        memory.append(node)\n",
    "    \n",
    "printNodes(head)"
   ]
  },
  {
   "cell_type": "code",
   "execution_count": null,
   "metadata": {},
   "outputs": [],
   "source": []
  }
 ],
 "metadata": {
  "kernelspec": {
   "display_name": "Python 3.9.12 ('base')",
   "language": "python",
   "name": "python3"
  },
  "language_info": {
   "codemirror_mode": {
    "name": "ipython",
    "version": 3
   },
   "file_extension": ".py",
   "mimetype": "text/x-python",
   "name": "python",
   "nbconvert_exporter": "python",
   "pygments_lexer": "ipython3",
   "version": "3.9.12"
  },
  "orig_nbformat": 4,
  "vscode": {
   "interpreter": {
    "hash": "9e765a96e5f40489db376370017179d79de916a29247b681d0d65e2e01ae9302"
   }
  }
 },
 "nbformat": 4,
 "nbformat_minor": 2
}
