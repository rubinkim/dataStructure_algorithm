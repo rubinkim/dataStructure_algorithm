{
 "cells": [
  {
   "cell_type": "code",
   "execution_count": null,
   "metadata": {},
   "outputs": [],
   "source": [
    "# 클래스와 주요 함수 선언 부분\n",
    "\n",
    "# Node 클래스 선언\n",
    "class Node:\n",
    "    def __init__(self):\n",
    "        self.data = None\n",
    "        self.link = None\n",
    "        \n",
    "# printNodes() 함수 선언\n",
    "def printNodes(start):\n",
    "    current = start\n",
    "    if current.link == None:\n",
    "        return\n",
    "    print(current.data, end=' ')\n",
    "    \n",
    "    while current.link != start:\n",
    "        current = current.link\n",
    "        print(current.data, end=' ')\n",
    "    print()\n",
    "    \n",
    "            "
   ]
  }
 ],
 "metadata": {
  "language_info": {
   "name": "python"
  },
  "orig_nbformat": 4
 },
 "nbformat": 4,
 "nbformat_minor": 2
}
