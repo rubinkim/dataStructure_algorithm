{
 "cells": [
  {
   "cell_type": "code",
   "execution_count": 52,
   "metadata": {},
   "outputs": [],
   "source": [
    "# 클래스와 주요 함수 선언 부분\n",
    "\n",
    "# Node 클래스 선언\n",
    "class Node:\n",
    "    def __init__(self):\n",
    "        self.data = None\n",
    "        self.link = None\n",
    "        \n",
    "# printNodes() 함수 선언\n",
    "def printNodes(start):\n",
    "    current = start\n",
    "    if current.link == None:\n",
    "        return\n",
    "    print(current.data, end=' ')\n",
    "    \n",
    "    while current.link != start:\n",
    "        current = current.link\n",
    "        print(current.data, end=' ')\n",
    "    print()\n",
    "    \n",
    "# insertNode() 함수 선언 \n",
    "def insertNode(findData, insertData):\n",
    "    global memory, head, current, pre\n",
    "    \n",
    "    if head.data == findData:\n",
    "        node = Node()\n",
    "        node.data = insertData\n",
    "        node.link = head \n",
    "        last = head\n",
    "        while last.link != head:\n",
    "            last = last.link\n",
    "        last.link = node\n",
    "        head = node\n",
    "        return\n",
    "    \n",
    "    current = head \n",
    "    while current.link != head:\n",
    "        pre = current\n",
    "        current = current.link\n",
    "        if current.data == findData:\n",
    "            node = Node()\n",
    "            node.data = insertData\n",
    "            pre.link = node\n",
    "            node.link = current\n",
    "            return\n",
    "        \n",
    "    node = Node()\n",
    "    node.data = insertData\n",
    "    current.link = node\n",
    "    node.link = head \n",
    "    \n",
    "\n",
    "# deleteNode() 함수 선언 부분\n",
    "def deleteNode(deleteData):\n",
    "    global memory, head, current, pre\n",
    "    \n",
    "    if head.data == deleteData:\n",
    "        last = head\n",
    "        while last.link != head:\n",
    "            last = last.link\n",
    "        last.link = head.link\n",
    "        current = head\n",
    "        head = head.link\n",
    "        del current\n",
    "        return\n",
    "    \n",
    "    current = head\n",
    "    while current.link != head:\n",
    "        pre = current\n",
    "        current = current.link\n",
    "        if current.data == deleteData:\n",
    "            pre.link = current.link\n",
    "            del current\n",
    "            return      \n",
    "        \n",
    "# findNode() 함수 선언 부분\n",
    "def findNode(findData):\n",
    "    global memory, head, current, pre\n",
    "    \n",
    "    if head.data == findData:\n",
    "        return head\n",
    "    \n",
    "    current = head\n",
    "    while current.link != head:\n",
    "        current = current.link\n",
    "        if current.data == findData:\n",
    "            return current\n",
    "    return Node()\n",
    "               "
   ]
  },
  {
   "cell_type": "code",
   "execution_count": 53,
   "metadata": {},
   "outputs": [],
   "source": [
    "# 전역 변수 선언 부분\n",
    "memory = []\n",
    "head, current, pre = None, None, None\n",
    "dataArray = ['다현', '정연', '쯔위', '사나', '지효']"
   ]
  },
  {
   "cell_type": "code",
   "execution_count": 54,
   "metadata": {},
   "outputs": [
    {
     "name": "stdout",
     "output_type": "stream",
     "text": [
      "다현 정연 쯔위 사나 지효 \n"
     ]
    }
   ],
   "source": [
    "# 메인 코드 선언 부분\n",
    "if __name__ == \"__main__\":\n",
    "    node = Node()\n",
    "    node.data = dataArray[0]\n",
    "    head = node\n",
    "    node.link = head\n",
    "    memory.append(node)\n",
    "    \n",
    "    for data in dataArray[1:]:\n",
    "        pre = node\n",
    "        node = Node()\n",
    "        node.data = data\n",
    "        pre.link = node\n",
    "        node.link = head\n",
    "        memory.append(node)\n",
    "    \n",
    "printNodes(head)"
   ]
  },
  {
   "cell_type": "code",
   "execution_count": 55,
   "metadata": {},
   "outputs": [
    {
     "name": "stdout",
     "output_type": "stream",
     "text": [
      "다현\n"
     ]
    }
   ],
   "source": [
    "print(head.data)"
   ]
  },
  {
   "cell_type": "code",
   "execution_count": 56,
   "metadata": {},
   "outputs": [
    {
     "name": "stdout",
     "output_type": "stream",
     "text": [
      "기원 다현 정연 쯔위 사나 지효 \n",
      "기원 다현 정연 쯔위 지영 사나 지효 \n",
      "기원 다현 정연 쯔위 지영 사나 지효 한용 \n",
      "기원 다현 정연 쯔위 지영 사나 지효 쥴리 한용 \n"
     ]
    }
   ],
   "source": [
    "insertNode('다현', '기원')\n",
    "printNodes(head)\n",
    "\n",
    "insertNode('사나', '지영')\n",
    "printNodes(head)\n",
    "\n",
    "insertNode('재남', '한용')\n",
    "printNodes(head)\n",
    "\n",
    "insertNode('한용','쥴리')\n",
    "printNodes(head)"
   ]
  },
  {
   "cell_type": "code",
   "execution_count": 57,
   "metadata": {},
   "outputs": [
    {
     "name": "stdout",
     "output_type": "stream",
     "text": [
      "기원\n"
     ]
    }
   ],
   "source": [
    "print(head.data)"
   ]
  },
  {
   "cell_type": "code",
   "execution_count": 58,
   "metadata": {},
   "outputs": [
    {
     "name": "stdout",
     "output_type": "stream",
     "text": [
      "다현 정연 쯔위 지영 사나 지효 쥴리 한용 \n",
      "다현 정연 쯔위 지영 지효 쥴리 한용 \n",
      "다현 정연 쯔위 지영 지효 쥴리 \n"
     ]
    }
   ],
   "source": [
    "deleteNode('기원')\n",
    "printNodes(head)\n",
    "\n",
    "deleteNode('사나')\n",
    "printNodes(head)\n",
    "\n",
    "deleteNode('한용')\n",
    "printNodes(head)"
   ]
  },
  {
   "cell_type": "code",
   "execution_count": 59,
   "metadata": {},
   "outputs": [
    {
     "name": "stdout",
     "output_type": "stream",
     "text": [
      "다현 정연 쯔위 지영 지효 쥴리 \n",
      "다현\n"
     ]
    }
   ],
   "source": [
    "printNodes(head)\n",
    "print(head.data)"
   ]
  },
  {
   "cell_type": "code",
   "execution_count": 61,
   "metadata": {},
   "outputs": [
    {
     "name": "stdout",
     "output_type": "stream",
     "text": [
      "정연\n",
      "쥴리\n"
     ]
    }
   ],
   "source": [
    "fNode = findNode(\"정연\")\n",
    "print(fNode.data)\n",
    "\n",
    "fNode = findNode(\"쥴리\")\n",
    "print(fNode.data)"
   ]
  },
  {
   "cell_type": "code",
   "execution_count": null,
   "metadata": {},
   "outputs": [],
   "source": []
  }
 ],
 "metadata": {
  "kernelspec": {
   "display_name": "Python 3.9.12 ('base')",
   "language": "python",
   "name": "python3"
  },
  "language_info": {
   "codemirror_mode": {
    "name": "ipython",
    "version": 3
   },
   "file_extension": ".py",
   "mimetype": "text/x-python",
   "name": "python",
   "nbconvert_exporter": "python",
   "pygments_lexer": "ipython3",
   "version": "3.9.12"
  },
  "orig_nbformat": 4,
  "vscode": {
   "interpreter": {
    "hash": "9e765a96e5f40489db376370017179d79de916a29247b681d0d65e2e01ae9302"
   }
  }
 },
 "nbformat": 4,
 "nbformat_minor": 2
}
