{
 "cells": [
  {
   "cell_type": "markdown",
   "metadata": {},
   "source": [
    "##### 단순 연결 리스트의 일반 구현"
   ]
  },
  {
   "cell_type": "code",
   "execution_count": 1,
   "metadata": {},
   "outputs": [],
   "source": [
    "# 지금까지는 데이터가 5개뿐인 단순연결리스트를 구현하였다. 하지만 실제로는 데이터개수는 제한적이지 않다.\n",
    "# 개수는 제한없이 생성되는데로 모든 노드를 메모리 공간에 저장하고 링크를 이용해서 연결한다.\n",
    "# 다음의 3가지 변수를 사용한다. head는 첫번째 노드를 가리키고, current는 지금 처리중인 노드를 가리키며, pre는 \n",
    "# 현재 처리중인 노드의 바로 앞 노드를 가리킨다.\n",
    "# 처음에는 모두 비어있으면 되므로 다음과 같이 초기화한다.\n",
    "\n",
    "memory = []\n",
    "head, current, pre = None, None, None"
   ]
  },
  {
   "cell_type": "code",
   "execution_count": 3,
   "metadata": {},
   "outputs": [],
   "source": [
    "# 단순 연결 리스트의 첫번째 데이터 입력\n",
    "\n",
    "# 사용자가 입력하거나 배열에서 데이터를 추출한 후 값을 계속 단순연결리스트로 만드는 코드를 작성해본다.\n",
    "# 사용자가 키보드로 첫번째 데이터를 입럭하거나 배열과 같은 데이터 저장소에서 데이터를 가져와서 대입한다.\n",
    "# 완성된 노드를 메모리 공간에 넣는다. 이런 방식을 사용하면 node1, node2,...처럼 변수 이름을 여러개 사용하지 않아도\n",
    "# 되며, 모든 노드는 head를 시작으로 연결된다. 사용자가 원하는 만큼 데이터를 입력할 수 있다.\n",
    "\n",
    "# 단순연결리스트의 두번째 이후 데이터 입력\n",
    "# 1)기존노드를 pre에 임시 저장한다. 2)빈 노드를 생성한다. \n",
    "# 3)이 노드에 데이터를 입력한다. 4)pre의 링크를 새노드에 연결한다.    "
   ]
  },
  {
   "cell_type": "code",
   "execution_count": 2,
   "metadata": {},
   "outputs": [],
   "source": [
    "# 클래스와 함수 선언 부분\n",
    "class Node():\n",
    "    def __init__(self):\n",
    "        self.data = None\n",
    "        self.link = None\n",
    "        \n",
    "        \n",
    "def printNodes(start):\n",
    "    current = start\n",
    "    if current == None:\n",
    "        return\n",
    "    print(current.data, end=' ')\n",
    "    \n",
    "    while(current.link):\n",
    "        current = current.link\n",
    "        print(current.data, end=' ')\n",
    "    print()"
   ]
  },
  {
   "cell_type": "code",
   "execution_count": 4,
   "metadata": {},
   "outputs": [],
   "source": [
    "# 전역 변수 선언 부분\n",
    "memory = []\n",
    "head, current, pre = None, None, None\n",
    "dataArray = ['다현','정연','쯔위','사나','지효','기원','지영','한용']"
   ]
  },
  {
   "cell_type": "code",
   "execution_count": 5,
   "metadata": {},
   "outputs": [
    {
     "name": "stdout",
     "output_type": "stream",
     "text": [
      "다현 정연 쯔위 사나 지효 기원 지영 한용 \n"
     ]
    }
   ],
   "source": [
    "## 메인 코그 부분\n",
    "if __name__ == \"__main__\":\n",
    "    # 첫번째 노드\n",
    "    node = Node()\n",
    "    node.data = dataArray[0]\n",
    "    head = node\n",
    "    memory.append(node)\n",
    "    \n",
    "    # 두번째 이후 노드들\n",
    "    for data in dataArray[1:]:\n",
    "        pre = node\n",
    "        node = Node()\n",
    "        node.data = data\n",
    "        pre.link = node\n",
    "        memory.append(node)\n",
    "        \n",
    "    printNodes(head)"
   ]
  },
  {
   "cell_type": "code",
   "execution_count": null,
   "metadata": {},
   "outputs": [],
   "source": []
  }
 ],
 "metadata": {
  "kernelspec": {
   "display_name": "Python 3.9.12 ('base')",
   "language": "python",
   "name": "python3"
  },
  "language_info": {
   "codemirror_mode": {
    "name": "ipython",
    "version": 3
   },
   "file_extension": ".py",
   "mimetype": "text/x-python",
   "name": "python",
   "nbconvert_exporter": "python",
   "pygments_lexer": "ipython3",
   "version": "3.9.12"
  },
  "orig_nbformat": 4,
  "vscode": {
   "interpreter": {
    "hash": "9e765a96e5f40489db376370017179d79de916a29247b681d0d65e2e01ae9302"
   }
  }
 },
 "nbformat": 4,
 "nbformat_minor": 2
}
