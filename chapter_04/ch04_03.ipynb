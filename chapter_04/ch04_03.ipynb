{
 "cells": [
  {
   "cell_type": "markdown",
   "metadata": {},
   "source": [
    "##### 단순 연결 리스트의 일반 구현"
   ]
  },
  {
   "cell_type": "code",
   "execution_count": 1,
   "metadata": {},
   "outputs": [],
   "source": [
    "# 지금까지는 데이터가 5개뿐인 단순연결리스트를 구현하였다. 하지만 실제로는 데이터개수는 제한적이지 않다.\n",
    "# 개수는 제한없이 생성되는데로 모든 노드를 메모리 공간에 저장하고 링크를 이용해서 연결한다.\n",
    "# 다음의 3가지 변수를 사용한다. head는 첫번째 노드를 가리키고, current는 지금 처리중인 노드를 가리키며, pre는 \n",
    "# 현재 처리중인 노드의 바로 앞 노드를 가리킨다.\n",
    "# 처음에는 모두 비어있으면 되므로 다음과 같이 초기화한다.\n",
    "\n",
    "memory = []\n",
    "head, current, pre = None, None, None"
   ]
  },
  {
   "cell_type": "code",
   "execution_count": null,
   "metadata": {},
   "outputs": [],
   "source": [
    "# 사용자가 입력하거나 배열에서 데이터를 추출한 후 값을 계속 단순연결리스트로 만드는 코드를 작성해본다."
   ]
  }
 ],
 "metadata": {
  "kernelspec": {
   "display_name": "Python 3.9.12 ('base')",
   "language": "python",
   "name": "python3"
  },
  "language_info": {
   "codemirror_mode": {
    "name": "ipython",
    "version": 3
   },
   "file_extension": ".py",
   "mimetype": "text/x-python",
   "name": "python",
   "nbconvert_exporter": "python",
   "pygments_lexer": "ipython3",
   "version": "3.9.12"
  },
  "orig_nbformat": 4,
  "vscode": {
   "interpreter": {
    "hash": "9e765a96e5f40489db376370017179d79de916a29247b681d0d65e2e01ae9302"
   }
  }
 },
 "nbformat": 4,
 "nbformat_minor": 2
}
