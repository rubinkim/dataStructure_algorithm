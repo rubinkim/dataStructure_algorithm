{
 "cells": [
  {
   "cell_type": "markdown",
   "metadata": {},
   "source": [
    "##### 단순 연결 리스트의 일반 구현"
   ]
  },
  {
   "cell_type": "code",
   "execution_count": 1,
   "metadata": {},
   "outputs": [],
   "source": [
    "# 지금까지는 데이터가 5개뿐인 단순연결리스트를 구현하였다. 하지만 실제로는 데이터개수는 제한적이지 않다.\n",
    "# 개수는 제한없이 생성되는데로 모든 노드를 메모리 공간에 저장하고 링크를 이용해서 연결한다.\n",
    "# 다음의 3가지 변수를 사용한다. \n",
    "# head는 첫번째 노드, current는 지금 처리중인 노드, pre는 현재 처리중인 노드의 바로 앞 노드를 가리킨다.\n",
    "# 처음에는 모두 비어있으면 되므로 다음과 같이 초기화한다.\n",
    "\n",
    "memory = []\n",
    "head, current, pre = None, None, None"
   ]
  },
  {
   "cell_type": "code",
   "execution_count": 3,
   "metadata": {},
   "outputs": [],
   "source": [
    "# 단순 연결 리스트의 첫번째 데이터 입력\n",
    "# 사용자가 입력하거나 혹은 어떤 배열에서 데이터를 추출한 후 값을 계속 단순연결리스트로 만드는 코드를 작성해본다.\n",
    "# 완성된 노드를 메모리 공간에 넣는다. 이런 방식을 사용하면 node1, node2,...처럼 변수 이름을 여러개 사용하지 않아도\n",
    "# 되며, 모든 노드는 head를 시작으로 연결된다. 사용자가 원하는 만큼 데이터를 입력할 수 있다.\n",
    "\n",
    "# 단순연결리스트의 두번째 이후 데이터 입력\n",
    "# 1)기존노드를 pre에 임시 저장한다. 2)빈 노드를 생성한다. \n",
    "# 3)이 노드에 데이터를 입력한다. 4)pre의 링크를 새노드에 연결한다.    "
   ]
  },
  {
   "cell_type": "code",
   "execution_count": 1,
   "metadata": {},
   "outputs": [],
   "source": [
    "# 클래스와 함수 선언 부분\n",
    "class Node():\n",
    "    def __init__(self):\n",
    "        self.data = None\n",
    "        self.link = None\n",
    "        \n",
    "        \n",
    "def printNodes(start):\n",
    "    current = start\n",
    "    if current == None:\n",
    "        return\n",
    "    print(current.data, end=' ')\n",
    "    \n",
    "    while(current.link):\n",
    "        current = current.link\n",
    "        print(current.data, end=' ')\n",
    "    print()"
   ]
  },
  {
   "cell_type": "code",
   "execution_count": 20,
   "metadata": {},
   "outputs": [],
   "source": [
    "# 전역 변수 선언 부분\n",
    "memory = []\n",
    "head, current, pre = None, None, None\n",
    "dataArray = ['다현','정연','쯔위','사나','지효','기원','지영','한용']\n",
    "dataArray1 = []"
   ]
  },
  {
   "cell_type": "code",
   "execution_count": 21,
   "metadata": {},
   "outputs": [
    {
     "name": "stdout",
     "output_type": "stream",
     "text": [
      "다현 정연 쯔위 사나 지효 기원 지영 한용 \n",
      "\n",
      "[<__main__.Node object at 0x000001E9D916F760>, <__main__.Node object at 0x000001E9D916FA30>, <__main__.Node object at 0x000001E9D916F8B0>, <__main__.Node object at 0x000001E9D916F5E0>, <__main__.Node object at 0x000001E9D916FB50>, <__main__.Node object at 0x000001E9D916FAF0>, <__main__.Node object at 0x000001E9D8FB9BE0>, <__main__.Node object at 0x000001E9D8FB96D0>]\n",
      "\n",
      "다현 정연 쯔위 사나 지효 기원 지영 한용 \n",
      "<__main__.Node object at 0x000001E9D916FA30> <__main__.Node object at 0x000001E9D916F8B0> <__main__.Node object at 0x000001E9D916F5E0> <__main__.Node object at 0x000001E9D916FB50> <__main__.Node object at 0x000001E9D916FAF0> <__main__.Node object at 0x000001E9D8FB9BE0> <__main__.Node object at 0x000001E9D8FB96D0> None "
     ]
    }
   ],
   "source": [
    "## 메인 코그 부분\n",
    "if __name__ == \"__main__\":\n",
    "    # 첫번째 노드\n",
    "    node = Node()\n",
    "    node.data = dataArray[0]\n",
    "    head = node\n",
    "    memory.append(node)\n",
    "    \n",
    "    # 두번째 이후 노드들\n",
    "    for data in dataArray[1:]:\n",
    "        pre = node\n",
    "        node = Node()\n",
    "        node.data = data\n",
    "        pre.link = node\n",
    "        memory.append(node)\n",
    "        \n",
    "    printNodes(head)\n",
    "    print()\n",
    "    print(memory)\n",
    "    print()\n",
    "    \n",
    "for element in memory:\n",
    "    print(element.data, end=' ')\n",
    "print()\n",
    " \n",
    "for element in memory:\n",
    "    print(element.link, end=' ')"
   ]
  },
  {
   "cell_type": "markdown",
   "metadata": {},
   "source": [
    "##### 노드 삽입"
   ]
  },
  {
   "cell_type": "code",
   "execution_count": null,
   "metadata": {},
   "outputs": [],
   "source": [
    "# 완성된 단순연결리스트에 노드를 삽입하는 방식을 구현해 보자.\n",
    "# 노드를 단순연결리스트의 맨앞, 중간, 마지막에 삽입하는 경우로 나눠서 생각해 볼 수 있다.\n",
    "\n",
    "# 첫번째 노드 삽입\n",
    "# 1)새 노드를 생성한다. 2)새 노드의 링크로 head노드를 지정한다. 3)head노드를 새 노드로 지정한다.\n",
    "'''\n",
    "node = Node()\n",
    "node.data = \"화사\"\n",
    "node.link = head\n",
    "head = node\n",
    "'''\n",
    "\n",
    "# 중간 노드 삽입 : 중간 노드인 사나 노드 앞에 솔라 노드를 삽입한다.\n",
    "# 1)head에서 시작해서 current노드가 사나인지 확인한다 2)만약 아니면 current노드를 pre노드로 저장하고 current노드를 \n",
    "# 다음 노드로 이동한다. 그리고 current노드가 사나일 때 까지 계속 반복한다. 3)current노드가 사나라면 우선 새노드\n",
    "# (솔라) 생성하고 pre노드의 링크를 새노드의 링크로 지정한다. 4)pre노드의 링크를 새노드로 지정한다. \n",
    "'''\n",
    "current = head\n",
    "while 마지막 노드까지:\n",
    "    pre = current\n",
    "    current = current.link\n",
    "    if current.data == \"사나\":\n",
    "        node = Node()\n",
    "        node.data = \"솔라\"\n",
    "        node.link = current\n",
    "        pre.link = node    \n",
    "''' \n",
    "\n",
    "# 마지막 노드로 삽입 : 문별노드를 마지막 노드로 삽입한다.\n",
    "# 존재하지 않는 데이터(예를 들어 재남)앞에 문별노드를 삽입한다면 끝까지 재남 데이터를 찾지 못할 것이다. 결국 마지막 \n",
    "# 노드에 문별을 삽입하게 된다.\n",
    "'''\n",
    "위의 중간 단계 삽입과정처럼 재남 데이터를 찾는다.\n",
    "마지막 노드까지 재남을 찾지 못했다면 우선 새노드(문별)를 생성하고 current노드의 링크를 새노드로 지정한다.\n",
    "node = Node()\n",
    "node.data = \"문별\"\n",
    "current.link = node\n",
    "'''"
   ]
  },
  {
   "cell_type": "markdown",
   "metadata": {},
   "source": [
    "##### 노드 삽입 함수의 완성"
   ]
  },
  {
   "cell_type": "code",
   "execution_count": 22,
   "metadata": {},
   "outputs": [],
   "source": [
    "# 클래스와 함수 선언 부분\n",
    "from readline import insert_text\n",
    "\n",
    "\n",
    "class Node():\n",
    "    def __init__(self):\n",
    "        self.data = None\n",
    "        self.link = None\n",
    "        \n",
    "def printNodes(start):\n",
    "    current = start\n",
    "    if current == None:\n",
    "        return\n",
    "    print(current.data, end=' ')\n",
    "    \n",
    "    while(current.link):\n",
    "        current = current.link\n",
    "        print(current.data, end=' ')\n",
    "    print()\n",
    "    \n",
    "def insertNode(findData, insertData):         # findData앞에 insertData를 삽입한다.\n",
    "    global memory, head, pre, current\n",
    "    \n",
    "    # 맨앞에 indsetData를 삽입하는 경우\n",
    "    if head.data == findData:\n",
    "        node = Node()\n",
    "        node.data = insertData\n",
    "        node.link = head\n",
    "        head = node\n",
    "        return\n",
    "    \n",
    "    # 중간에 findData앞에 insertData를 삽입하는 경우\n",
    "    current = head\n",
    "    while(current.link):\n",
    "        pre = current\n",
    "        current = current.link\n",
    "        if current.data == findData:\n",
    "            node = Node()\n",
    "            node.data = insertData\n",
    "            node.link = current\n",
    "            pre.link = node\n",
    "            return\n",
    "        \n",
    "    # 마지막 노드로 insertData를 삽입하는 경우\n",
    "    node = Node()\n",
    "    node.data = insertData\n",
    "    current.link = node"
   ]
  },
  {
   "cell_type": "code",
   "execution_count": 23,
   "metadata": {},
   "outputs": [],
   "source": [
    "# 전역 변수 선언 부분\n",
    "memory = []\n",
    "head, current, pre = None, None, None\n",
    "dataArray = ['다현','정연','쯔위','사나','지효']"
   ]
  },
  {
   "cell_type": "code",
   "execution_count": 24,
   "metadata": {},
   "outputs": [
    {
     "name": "stdout",
     "output_type": "stream",
     "text": [
      "다현 정연 쯔위 사나 지효 \n",
      "화사 다현 정연 쯔위 사나 지효 \n",
      "화사 다현 정연 쯔위 솔라 사나 지효 \n",
      "화사 다현 정연 쯔위 솔라 사나 지효 문별 \n"
     ]
    }
   ],
   "source": [
    "# 메인 코드 부분\n",
    "if __name__ == \"__main__\":\n",
    "    \n",
    "    # 첫번째 노드\n",
    "    node = Node()\n",
    "    node.data = dataArray[0]\n",
    "    head = node\n",
    "    memory.append(node)\n",
    "    \n",
    "    # 두번째 이후 노드\n",
    "    for data in dataArray[1:]:\n",
    "        pre = node\n",
    "        node = Node()\n",
    "        node.data = data\n",
    "        pre.link = node\n",
    "        memory.append(node)\n",
    "        \n",
    "    printNodes(head)\n",
    "    \n",
    "    # 데이터 삽입\n",
    "    insertNode(\"다현\", \"화사\")\n",
    "    printNodes(head)\n",
    "    \n",
    "    insertNode(\"사나\", \"솔라\")\n",
    "    printNodes(head)\n",
    "    \n",
    "    insertNode(\"재남\", \"문별\")\n",
    "    printNodes(head)"
   ]
  },
  {
   "cell_type": "markdown",
   "metadata": {},
   "source": [
    "##### 노드 삭제(page : 140)"
   ]
  },
  {
   "cell_type": "markdown",
   "metadata": {},
   "source": []
  }
 ],
 "metadata": {
  "kernelspec": {
   "display_name": "Python 3.9.12 ('base')",
   "language": "python",
   "name": "python3"
  },
  "language_info": {
   "codemirror_mode": {
    "name": "ipython",
    "version": 3
   },
   "file_extension": ".py",
   "mimetype": "text/x-python",
   "name": "python",
   "nbconvert_exporter": "python",
   "pygments_lexer": "ipython3",
   "version": "3.9.12"
  },
  "orig_nbformat": 4,
  "vscode": {
   "interpreter": {
    "hash": "9e765a96e5f40489db376370017179d79de916a29247b681d0d65e2e01ae9302"
   }
  }
 },
 "nbformat": 4,
 "nbformat_minor": 2
}
