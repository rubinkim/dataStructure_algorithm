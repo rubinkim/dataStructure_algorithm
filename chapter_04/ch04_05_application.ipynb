{
 "cells": [
  {
   "cell_type": "markdown",
   "metadata": {},
   "source": [
    "##### 단순 연결 리스트의 응용"
   ]
  },
  {
   "cell_type": "code",
   "execution_count": 1,
   "metadata": {},
   "outputs": [],
   "source": [
    "# 기본 클래스와 printNodes(start)생성하기\n",
    "class Node:\n",
    "    def __init__(self):\n",
    "        self.data = None\n",
    "        self.link = None\n",
    "        \n",
    "def printNodes(start):\n",
    "    current = start\n",
    "    if current == None:\n",
    "        return\n",
    "    print(current.data, end=' ')\n",
    "    \n",
    "    while(current.link):\n",
    "        current = current.link\n",
    "        print(current.data, end=' ')\n",
    "    print()   "
   ]
  },
  {
   "cell_type": "code",
   "execution_count": 2,
   "metadata": {},
   "outputs": [],
   "source": [
    "# 간단한 명함관리 프로그램인데 이름과 연락처를 무작위로 입력하면 이름 순서대로 단순연결리스트에 저장하는 기능이다.\n",
    "\n",
    "# 입력할 데이터를 2차원 배열에 저장한다.\n",
    "dataArray = [[\"지민\", \"010-1111-1111\"], [\"정국\", \"010-2222-2222\"], [\"뷔\", \"010-3333-3333\"],\n",
    "             [\"슈가\", \"010-4444-4444\"], [\"진\", \"010-5555-5555\"]]\n",
    "\n",
    "# 데이터를 차례대로 가져온다. 먼저 '지민'을 단순연결리스트에 생성하자. head가 비어있을때는 head에 첫노드를 저장한다.\n",
    "node = Node()\n",
    "node.data = dataArray[0]\n",
    "head = node\n",
    "\n"
   ]
  },
  {
   "cell_type": "code",
   "execution_count": null,
   "metadata": {},
   "outputs": [],
   "source": []
  }
 ],
 "metadata": {
  "kernelspec": {
   "display_name": "Python 3.9.12 ('base')",
   "language": "python",
   "name": "python3"
  },
  "language_info": {
   "codemirror_mode": {
    "name": "ipython",
    "version": 3
   },
   "file_extension": ".py",
   "mimetype": "text/x-python",
   "name": "python",
   "nbconvert_exporter": "python",
   "pygments_lexer": "ipython3",
   "version": "3.9.12"
  },
  "orig_nbformat": 4,
  "vscode": {
   "interpreter": {
    "hash": "9e765a96e5f40489db376370017179d79de916a29247b681d0d65e2e01ae9302"
   }
  }
 },
 "nbformat": 4,
 "nbformat_minor": 2
}
