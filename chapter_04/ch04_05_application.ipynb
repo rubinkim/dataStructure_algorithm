{
 "cells": [
  {
   "cell_type": "markdown",
   "metadata": {},
   "source": [
    "##### 단순 연결 리스트의 응용"
   ]
  },
  {
   "cell_type": "code",
   "execution_count": 4,
   "metadata": {},
   "outputs": [],
   "source": [
    "# 클래스와 함수 선언 부분\n",
    "# 기본 클래스와 printNodes(start)생성하기\n",
    "class Node:\n",
    "    def __init__(self):\n",
    "        self.data = None\n",
    "        self.link = None\n",
    "        \n",
    "def printNodes(start):\n",
    "    current = start\n",
    "    if current == None:\n",
    "        return\n",
    "    print(current.data, end=' ')\n",
    "    \n",
    "    while(current.link):\n",
    "        current = current.link\n",
    "        print(current.data, end=' ')\n",
    "    print() \n",
    "    \n",
    "def makeSimpleLinkedList(namePhone):\n",
    "    global memory, current, head, pre\n",
    "    printNodes(head)\n",
    "    \n",
    "    node = Node()\n",
    "    node.data = namePhone\n",
    "    memory.append(node)\n",
    "    \n",
    "    # 아직 첫번째 노드가 없어서 head가 지정되지 않았을때\n",
    "    if head == None:\n",
    "        head = node\n",
    "        return\n",
    "    \n",
    "    # namePhone이 첫번째 노드의 name보다 작아서 node가 head가 되어야 할때\n",
    "    if head.data[0] > namePhone[0]:\n",
    "        node.link = head\n",
    "        head = head\n",
    "        return\n",
    "    \n",
    "    # 중간에 삽입하는 경우\n",
    "    current = head\n",
    "    while(current.link):\n",
    "        pre = current\n",
    "        current = current.link\n",
    "        \n",
    "        if current.data[0] > namePhone[0]:\n",
    "            pre.link = node\n",
    "            node.link = current\n",
    "            return\n",
    "    \n",
    "    # 삽입하는 노드가 가장 큰 경우\n",
    "    current.link = node"
   ]
  },
  {
   "cell_type": "code",
   "execution_count": 5,
   "metadata": {},
   "outputs": [],
   "source": [
    "# 전역 변수 선언 부분\n",
    "# 간단한 명함관리 프로그램인데 이름과 연락처를 무작위로 입력하면 이름 순서대로 단순연결리스트에 저장하는 기능이다.\n",
    "memory = []\n",
    "current, head, pre = None, None, None\n",
    "\n",
    "# 입력할 데이터를 2차원 배열에 저장한다.\n",
    "dataArray = [[\"지민\", \"010-1111-1111\"], [\"정국\", \"010-2222-2222\"], [\"뷔\", \"010-3333-3333\"],\n",
    "             [\"슈가\", \"010-4444-4444\"], [\"진\", \"010-5555-5555\"]]\n",
    "\n",
    "# 위와 같이 하면 우리의 단순연결리스트인 memory에 dataArray의 순서대로 노드들이 위치할것인데 지금 하려는 작업은 \n",
    "# dataArray의 각각의 리스트중 첫번째 원소인 이름순서대로 단순연결리스트를 만들려고 하기 때문에 이렇게 하면 안된다."
   ]
  },
  {
   "cell_type": "code",
   "execution_count": 6,
   "metadata": {},
   "outputs": [
    {
     "name": "stdout",
     "output_type": "stream",
     "text": [
      "['지민', '010-1111-1111'] \n",
      "['지민', '010-1111-1111'] \n",
      "['지민', '010-1111-1111'] \n",
      "['지민', '010-1111-1111'] \n",
      "['지민', '010-1111-1111'] ['진', '010-5555-5555'] \n"
     ]
    }
   ],
   "source": [
    "# 메인 코드 부분\n",
    "if __name__ == \"__main__\":\n",
    "    \n",
    "    for data in dataArray:\n",
    "        makeSimpleLinkedList(data)\n",
    "        \n",
    "    printNodes(head)"
   ]
  }
 ],
 "metadata": {
  "kernelspec": {
   "display_name": "Python 3.9.12 ('base')",
   "language": "python",
   "name": "python3"
  },
  "language_info": {
   "codemirror_mode": {
    "name": "ipython",
    "version": 3
   },
   "file_extension": ".py",
   "mimetype": "text/x-python",
   "name": "python",
   "nbconvert_exporter": "python",
   "pygments_lexer": "ipython3",
   "version": "3.9.12"
  },
  "orig_nbformat": 4,
  "vscode": {
   "interpreter": {
    "hash": "9e765a96e5f40489db376370017179d79de916a29247b681d0d65e2e01ae9302"
   }
  }
 },
 "nbformat": 4,
 "nbformat_minor": 2
}
