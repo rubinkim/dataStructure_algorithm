{
 "cells": [
  {
   "cell_type": "markdown",
   "metadata": {},
   "source": [
    "#### 선형 리스트의 응용"
   ]
  },
  {
   "cell_type": "code",
   "execution_count": null,
   "metadata": {},
   "outputs": [],
   "source": [
    "# 다항식의 선형 리스트 표현\n",
    "# 선형 리스트의 가장 많은 응용중 하나는 다항식(Polynomial)을 저장하고 활용하는 것이다. "
   ]
  },
  {
   "cell_type": "markdown",
   "metadata": {},
   "source": [
    "##### $$a,b,c,...z를~계수,~ 변수~x의~ 1,2,3,...n을~ 지수라고~ 하며~ P(x)는~n차~다항식이다.$$ $$P(x) = a + bx + cx^2 + dx^3 + ... + zx^n$$"
   ]
  },
  {
   "cell_type": "markdown",
   "metadata": {},
   "source": [
    "##### $$P(x) = 7x^3 - 4x^2 + 5$$ $$ P(x) = 7x^3 -4x^2 +0x^1 + 5x^0$$"
   ]
  },
  {
   "cell_type": "code",
   "execution_count": 1,
   "metadata": {},
   "outputs": [
    {
     "name": "stdout",
     "output_type": "stream",
     "text": [
      "45\n"
     ]
    }
   ],
   "source": [
    "# 다항식을 선형리스트로 저장한다면 각 배열을 최고항부터 나열하고 다항식 계수들을 배열에 저장시키는 방식을 사용한다.\n",
    "px = [7, -4, 0, 5]\n",
    "\n",
    "# 전체 배열의 길이는 4이므로 4-1인 3부터 카운트해서 x^3, x^2, x^1, x^0 항으로 계산하면 된다. x값이 2라면,\n",
    "x = 2\n",
    "pxVal = 7 * x**3 - 4 * x**2 + 0 * x**1 + 5 * x**0\n",
    "print(pxVal)"
   ]
  },
  {
   "cell_type": "code",
   "execution_count": 5,
   "metadata": {},
   "outputs": [
    {
     "name": "stdout",
     "output_type": "stream",
     "text": [
      "P(x) =  + 7x^3 + -4x^2 + 0x^1 + 5x^0\n"
     ]
    }
   ],
   "source": [
    "# 이번에는 다항식 형태를 출력해보자.\n",
    "px = [7, -4, 0, 5]\n",
    "polyStr = \"P(x) = \"\n",
    "polyStr += \" + \" + str(px[0]) + \"x^\" + str(3)\n",
    "polyStr += \" + \" + str(px[1]) + \"x^\" + str(2)\n",
    "polyStr += \" + \" + str(px[2]) + \"x^\" + str(1)\n",
    "polyStr += \" + \" + str(px[3]) + \"x^\" + str(0)\n",
    "\n",
    "print(polyStr)"
   ]
  },
  {
   "cell_type": "code",
   "execution_count": 6,
   "metadata": {},
   "outputs": [],
   "source": [
    "# 위에서 공부한 내용을 기반으로 다항식을 선형리스트로 표현하고 계산하는 파이썬코드를 구현해보자.\n",
    "# 다항식 형태를 출력하는 함수를 printPoly()함수와 다항식을 계산하는 calcPoly()함수를 생성해서 코드를 작성한다."
   ]
  },
  {
   "cell_type": "code",
   "execution_count": 7,
   "metadata": {},
   "outputs": [],
   "source": [
    "## 함수 선언 부분\n",
    "def printPoly(p_x):\n",
    "    term = len(p_x) - 1         # 최고차항 숫자 = 배열길이 - 1\n",
    "    polyStr = \"P(x) = \"\n",
    "    \n",
    "    for i in range(len(px)):\n",
    "        coef = p_x[i]           # 계수\n",
    "        if(coef >= 0):\n",
    "            polyStr += \" + \"\n",
    "        polyStr += str(coef) + \"x^\" + str(term) + \" \"\n",
    "        term -= 1\n",
    "    return polyStr\n",
    "\n",
    "def calcPoly(xVal, p_x):\n",
    "    retValue = 0\n",
    "    term = len(p_x) - 1          # 최고차항 숫자 = 배열길이 - 1\n",
    "    \n",
    "    for i in range(len(px)):\n",
    "        coef = p_x[i]            # 계수\n",
    "        retValue += coef * xValue ** term\n",
    "        term -= 1\n",
    "    return retValue"
   ]
  },
  {
   "cell_type": "code",
   "execution_count": 8,
   "metadata": {},
   "outputs": [],
   "source": [
    "## 전역 변수 선언 부분\n",
    "px = [7, -4, 0, 5]"
   ]
  },
  {
   "cell_type": "code",
   "execution_count": 10,
   "metadata": {},
   "outputs": [
    {
     "name": "stdout",
     "output_type": "stream",
     "text": [
      "P(x) =  + 7x^3 -4x^2  + 0x^1  + 5x^0 \n",
      "45\n"
     ]
    }
   ],
   "source": [
    "# 메인 코드 부분\n",
    "if __name__ == \"__main__\":\n",
    "    \n",
    "    pStr = printPoly(px)\n",
    "    print(pStr)\n",
    "    \n",
    "    xValue = int(input(\"X값-->\"))\n",
    "    pxValue = calcPoly(xValue, px)\n",
    "    print(pxValue)"
   ]
  }
 ],
 "metadata": {
  "kernelspec": {
   "display_name": "Python 3.9.12 ('base')",
   "language": "python",
   "name": "python3"
  },
  "language_info": {
   "codemirror_mode": {
    "name": "ipython",
    "version": 3
   },
   "file_extension": ".py",
   "mimetype": "text/x-python",
   "name": "python",
   "nbconvert_exporter": "python",
   "pygments_lexer": "ipython3",
   "version": "3.9.12"
  },
  "orig_nbformat": 4,
  "vscode": {
   "interpreter": {
    "hash": "9e765a96e5f40489db376370017179d79de916a29247b681d0d65e2e01ae9302"
   }
  }
 },
 "nbformat": 4,
 "nbformat_minor": 2
}
