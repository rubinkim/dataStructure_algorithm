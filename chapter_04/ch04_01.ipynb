{
 "cells": [
  {
   "cell_type": "markdown",
   "metadata": {},
   "source": [
    "#### 선형 리스트의 응용"
   ]
  },
  {
   "cell_type": "code",
   "execution_count": null,
   "metadata": {},
   "outputs": [],
   "source": [
    "# 다항식의 선형 리스트 표현\n",
    "# 선형 리스트의 가장 많은 응용중 하나는 다항식(Polynomial)을 저장하고 활용하는 것이다. "
   ]
  },
  {
   "cell_type": "markdown",
   "metadata": {},
   "source": [
    "##### $$a,b,c,...z를~계수,~ 변수~x의~ 1,2,3,...n을~ 지수라고~ 하며~ P(x)는~n차~다항식이다.$$ $$P(x) = a + bx + cx^2 + dx^3 + ... + zx^n$$"
   ]
  },
  {
   "cell_type": "markdown",
   "metadata": {},
   "source": [
    "#### $$P(x) = 7x^3 - 4x^2 + 5$$ $$ P(x) = 7x^3 -4x^2 +0x^1 + 5x^0$$"
   ]
  }
 ],
 "metadata": {
  "kernelspec": {
   "display_name": "Python 3.9.12 ('base')",
   "language": "python",
   "name": "python3"
  },
  "language_info": {
   "name": "python",
   "version": "3.9.12"
  },
  "orig_nbformat": 4,
  "vscode": {
   "interpreter": {
    "hash": "9e765a96e5f40489db376370017179d79de916a29247b681d0d65e2e01ae9302"
   }
  }
 },
 "nbformat": 4,
 "nbformat_minor": 2
}
