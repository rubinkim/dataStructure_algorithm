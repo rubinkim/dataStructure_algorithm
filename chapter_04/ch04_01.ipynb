{
 "cells": [
  {
   "cell_type": "markdown",
   "metadata": {},
   "source": [
    "#### 선형 리스트의 응용"
   ]
  },
  {
   "cell_type": "code",
   "execution_count": null,
   "metadata": {},
   "outputs": [],
   "source": [
    "# 다항식의 선형 리스트 표현\n",
    "# 선형 리스트의 가장 많은 응용중 하나는 다항식(Polynomial)을 저장하고 활용하는 것이다. "
   ]
  },
  {
   "cell_type": "markdown",
   "metadata": {},
   "source": [
    "##### $$a,b,c,...z를~계수,~ 변수~x의~ 1,2,3,...n을~ 지수라고~ 하며~ P(x)는~n차~다항식이다.$$ $$P(x) = a + bx + cx^2 + dx^3 + ... + zx^n$$"
   ]
  },
  {
   "cell_type": "markdown",
   "metadata": {},
   "source": [
    "##### $$P(x) = 7x^3 - 4x^2 + 5$$ $$ P(x) = 7x^3 -4x^2 +0x^1 + 5x^0$$"
   ]
  },
  {
   "cell_type": "code",
   "execution_count": 1,
   "metadata": {},
   "outputs": [
    {
     "name": "stdout",
     "output_type": "stream",
     "text": [
      "45\n"
     ]
    }
   ],
   "source": [
    "# 다항식을 선형리스트로 저장한다면 각 배열을 최고항부터 나열하고 다항식 계수들을 배열에 저장시키는 방식을 사용한다.\n",
    "px = [7, -4, 0, 5]\n",
    "\n",
    "# 전체 배열의 길이는 4이므로 4-1인 3부터 카운트해서 x^3, x^2, x^1, x^0 항으로 계산하면 된다. x값이 2라면,\n",
    "x = 2\n",
    "pxVal = 7 * x**3 - 4 * x**2 + 0 * x**1 + 5 * x**0\n",
    "print(pxVal)"
   ]
  },
  {
   "cell_type": "code",
   "execution_count": 5,
   "metadata": {},
   "outputs": [
    {
     "name": "stdout",
     "output_type": "stream",
     "text": [
      "P(x) =  + 7x^3 + -4x^2 + 0x^1 + 5x^0\n"
     ]
    }
   ],
   "source": [
    "# 이번에는 다항식 형태를 출력해보자.\n",
    "px = [7, -4, 0, 5]\n",
    "polyStr = \"P(x) = \"\n",
    "polyStr += \" + \" + str(px[0]) + \"x^\" + str(3)\n",
    "polyStr += \" + \" + str(px[1]) + \"x^\" + str(2)\n",
    "polyStr += \" + \" + str(px[2]) + \"x^\" + str(1)\n",
    "polyStr += \" + \" + str(px[3]) + \"x^\" + str(0)\n",
    "\n",
    "print(polyStr)"
   ]
  },
  {
   "cell_type": "code",
   "execution_count": null,
   "metadata": {},
   "outputs": [],
   "source": []
  }
 ],
 "metadata": {
  "kernelspec": {
   "display_name": "Python 3.9.12 ('base')",
   "language": "python",
   "name": "python3"
  },
  "language_info": {
   "codemirror_mode": {
    "name": "ipython",
    "version": 3
   },
   "file_extension": ".py",
   "mimetype": "text/x-python",
   "name": "python",
   "nbconvert_exporter": "python",
   "pygments_lexer": "ipython3",
   "version": "3.9.12"
  },
  "orig_nbformat": 4,
  "vscode": {
   "interpreter": {
    "hash": "9e765a96e5f40489db376370017179d79de916a29247b681d0d65e2e01ae9302"
   }
  }
 },
 "nbformat": 4,
 "nbformat_minor": 2
}
