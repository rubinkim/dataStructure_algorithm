{
 "cells": [
  {
   "cell_type": "markdown",
   "metadata": {},
   "source": [
    "##### 단순연결리스트 구현 : 나 혼자 한다"
   ]
  },
  {
   "cell_type": "code",
   "execution_count": 9,
   "metadata": {},
   "outputs": [],
   "source": [
    "# 클래스 및 함수 선언 부분\n",
    "\n",
    "class Node:\n",
    "    def __init__(self):\n",
    "        self.data = None\n",
    "        self.link = None\n",
    "        \n",
    "# 단순연결리스트 출력함수 선언\n",
    "def printNodes(start):\n",
    "    \n",
    "    current = start\n",
    "    if current == None:\n",
    "        return\n",
    "    print(current.data, end=' ')\n",
    "    \n",
    "    while current.link != None:\n",
    "        current = current.link\n",
    "        print(current.data, end=' ')\n",
    "    print()\n",
    "    \n",
    "# 노드 삽입 부분 선언\n",
    "def insertNode(findData, insertData):\n",
    "    \n",
    "    global memory, head, current, pre\n",
    "    # 맨처음 노드 앞에 삽입\n",
    "    if head.data == findData:\n",
    "        current = head\n",
    "        node = Node()\n",
    "        node.data = insertData\n",
    "        node.link = current\n",
    "        head = node\n",
    "        return\n",
    "        \n",
    "    # 중간에 있는 노드 앞에 삽입\n",
    "    current = head\n",
    "    while current.link != None:\n",
    "        pre = current\n",
    "        current = current.link\n",
    "        if current.data == findData:\n",
    "            node = Node()\n",
    "            node.data = insertData\n",
    "            pre.link = node\n",
    "            node.link = current\n",
    "            return\n",
    "        \n",
    "    # 맨 뒤에 었는 노드 뒤에 삽입\n",
    "    node = Node()\n",
    "    node.data = insertData\n",
    "    current.link = node    \n",
    "    "
   ]
  },
  {
   "cell_type": "code",
   "execution_count": 10,
   "metadata": {},
   "outputs": [],
   "source": [
    "# 전역 변수 선언 부분\n",
    "\n",
    "memory = []\n",
    "head, current, pre = None, None, None\n",
    "dataArray = [\"다현\", \"지영\", \"쯔위\", \"사나\", \"지효\"]"
   ]
  },
  {
   "cell_type": "code",
   "execution_count": 19,
   "metadata": {},
   "outputs": [
    {
     "name": "stdout",
     "output_type": "stream",
     "text": [
      "다현 지영 쯔위 사나 지효 \n"
     ]
    }
   ],
   "source": [
    "# 메인 코드 부분\n",
    "\n",
    "# 메모리에 dataArray 데이터들 순서대로 저장하기\n",
    "node = Node()\n",
    "node.data = dataArray[0]\n",
    "head = node\n",
    "memory.append(node)\n",
    "\n",
    "for data in dataArray[1:]:\n",
    "    current = node\n",
    "    node = Node()\n",
    "    node.data = data\n",
    "    current.link = node\n",
    "    memory.append(node)\n",
    "    \n",
    "printNodes(head)"
   ]
  },
  {
   "cell_type": "code",
   "execution_count": 20,
   "metadata": {},
   "outputs": [
    {
     "name": "stdout",
     "output_type": "stream",
     "text": [
      "한용 다현 지영 쯔위 사나 지효 \n",
      "한용 다현 기원 지영 쯔위 사나 지효 \n",
      "한용 다현 기원 지영 쯔위 사나 쥴리 지효 \n",
      "한용 다현 기원 지영 쯔위 사나 쥴리 지효 혜용 \n"
     ]
    }
   ],
   "source": [
    "# insertData 함수 이용해서 새로운 데이터 입력하기\n",
    "insertNode(\"다현\", \"한용\")\n",
    "printNodes(head)\n",
    "\n",
    "insertNode(\"지영\", \"기원\")\n",
    "printNodes(head)\n",
    "\n",
    "insertNode(\"지효\", \"쥴리\")\n",
    "printNodes(head)\n",
    "\n",
    "insertNode(\"재남\", \"혜용\")\n",
    "printNodes(head)"
   ]
  },
  {
   "cell_type": "code",
   "execution_count": null,
   "metadata": {},
   "outputs": [],
   "source": []
  }
 ],
 "metadata": {
  "kernelspec": {
   "display_name": "Python 3.9.12 ('base')",
   "language": "python",
   "name": "python3"
  },
  "language_info": {
   "codemirror_mode": {
    "name": "ipython",
    "version": 3
   },
   "file_extension": ".py",
   "mimetype": "text/x-python",
   "name": "python",
   "nbconvert_exporter": "python",
   "pygments_lexer": "ipython3",
   "version": "3.9.12"
  },
  "orig_nbformat": 4,
  "vscode": {
   "interpreter": {
    "hash": "9e765a96e5f40489db376370017179d79de916a29247b681d0d65e2e01ae9302"
   }
  }
 },
 "nbformat": 4,
 "nbformat_minor": 2
}
