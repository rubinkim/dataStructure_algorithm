{
 "cells": [
  {
   "cell_type": "code",
   "execution_count": null,
   "metadata": {},
   "outputs": [],
   "source": [
    "# 선형리스트(Linear List)는 데이터를 일정한 순서로 나열한 구조로 순차리스트(Ordered List)라고도 한다.\n",
    "# 선형리스트는 입력 순서대로 저장하는 데이터에 적합하다. 연락 많이 받은 순으로 카톡친구들을 저장하기에 적합하다. 100\n",
    "# 번지부터 저장하면 이름 두 글자를 저장할 4바이트만큼 공간을 확보한 후 서로 다닥다닥 붙어있게 저장된다."
   ]
  },
  {
   "cell_type": "code",
   "execution_count": null,
   "metadata": {},
   "outputs": [],
   "source": [
    "# 선형리스트의 원릭\n",
    "# 데이터 삽입 : 빈칸확보 --> 자리이동 --> 데이터삽입\n",
    "# 데이터 삭제 : 데이터삭제 --> 자리이동 --> 빈칸제거"
   ]
  },
  {
   "cell_type": "code",
   "execution_count": 15,
   "metadata": {},
   "outputs": [
    {
     "name": "stdout",
     "output_type": "stream",
     "text": [
      "1번째 친구가 입력된 후의 katok : ['다현']\n",
      "2번째 친구가 입력된 후의 katok : ['다현', '정연']\n",
      "3번째 친구가 입력된 후의 katok : ['다현', '정연', '쯔위']\n",
      "4번째 친구가 입력된 후의 katok : ['다현', '정연', '쯔위', '사나']\n",
      "5번째 친구가 입력된 후의 katok : ['다현', '정연', '쯔위', '사나', '지효']\n"
     ]
    }
   ],
   "source": [
    "# 선형리스트의 일반 구현\n",
    "\n",
    "katok = []    # 빈 배열생성. 카톡친구들을 저장할 역할을 한다.\n",
    "\n",
    "# 카톡친구들을 저장할 선형리스트를 생성하는 함수를 만든다.\n",
    "def add_data(friend):\n",
    "    katok.append(None)   # 리스트 맨뒤에 빈칸 하나를 만들고 None값을 넣어준다.\n",
    "    kLen = len(katok)\n",
    "    katok[kLen - 1] = friend  # 리스트 맨뒤에 friend를 넣어준다. \n",
    "\n",
    "friends = ['다현', '정연', '쯔위', '사나', '지효']\n",
    "for i, friend in enumerate(friends):\n",
    "    add_data(friend)\n",
    "    print(f\"{i+1}번째 친구가 입력된 후의 katok : {katok}\")"
   ]
  },
  {
   "cell_type": "code",
   "execution_count": 14,
   "metadata": {},
   "outputs": [],
   "source": [
    "def add_data_between(data1, data2):\n",
    "    \n",
    "    position = katok.index(data1)\n",
    "    katok.append(None)\n",
    "    kLen = len(katok)\n",
    "    \n",
    "    for i in range(kLen-1, position, -1):\n",
    "        katok[i] = katok[i-1]\n",
    "    katok[position] = data2 \n",
    "    return katok      "
   ]
  },
  {
   "cell_type": "code",
   "execution_count": 17,
   "metadata": {},
   "outputs": [
    {
     "name": "stdout",
     "output_type": "stream",
     "text": [
      "['다현', '정연', '쯔위', '사나', '지효']\n"
     ]
    },
    {
     "data": {
      "text/plain": [
       "['다현', '정연', '솔라', '쯔위', '사나', '지효']"
      ]
     },
     "execution_count": 17,
     "metadata": {},
     "output_type": "execute_result"
    }
   ],
   "source": [
    "print(katok)\n",
    "\n",
    "add_data_between('쯔위', '솔라')"
   ]
  },
  {
   "cell_type": "code",
   "execution_count": 18,
   "metadata": {},
   "outputs": [
    {
     "data": {
      "text/plain": [
       "['다현', '지영', '정연', '솔라', '쯔위', '사나', '지효']"
      ]
     },
     "execution_count": 18,
     "metadata": {},
     "output_type": "execute_result"
    }
   ],
   "source": [
    "add_data_between('정연', '지영')"
   ]
  }
 ],
 "metadata": {
  "kernelspec": {
   "display_name": "Python 3.9.12 ('base')",
   "language": "python",
   "name": "python3"
  },
  "language_info": {
   "codemirror_mode": {
    "name": "ipython",
    "version": 3
   },
   "file_extension": ".py",
   "mimetype": "text/x-python",
   "name": "python",
   "nbconvert_exporter": "python",
   "pygments_lexer": "ipython3",
   "version": "3.9.12"
  },
  "orig_nbformat": 4,
  "vscode": {
   "interpreter": {
    "hash": "9e765a96e5f40489db376370017179d79de916a29247b681d0d65e2e01ae9302"
   }
  }
 },
 "nbformat": 4,
 "nbformat_minor": 2
}
