{
 "cells": [
  {
   "cell_type": "code",
   "execution_count": null,
   "metadata": {},
   "outputs": [],
   "source": [
    "# 선형리스트(Linear List)는 데이터를 일정한 순서로 나열한 구조로 순차리스트(Ordered List)라고도 한다.\n",
    "# 선형리스트는 입력 순서대로 저장하는 데이터에 적합하다. 연락 많이 받은 순으로 카톡친구들을 저장하기에 적합하다. 100\n",
    "# 번지부터 저장하면 이름 두 글자를 저장할 4바이트만큼 공간을 확보한 후 서로 다닥다닥 붙어있게 저장된다."
   ]
  }
 ],
 "metadata": {
  "language_info": {
   "name": "python"
  },
  "orig_nbformat": 4
 },
 "nbformat": 4,
 "nbformat_minor": 2
}
