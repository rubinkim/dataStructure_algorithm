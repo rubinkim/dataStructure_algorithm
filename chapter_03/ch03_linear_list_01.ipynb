{
 "cells": [
  {
   "cell_type": "code",
   "execution_count": null,
   "metadata": {},
   "outputs": [],
   "source": [
    "# 선형리스트(Linear List)는 데이터를 일정한 순서로 나열한 구조로 순차리스트(Ordered List)라고도 한다.\n",
    "# 선형리스트는 입력 순서대로 저장하는 데이터에 적합하다. 연락 많이 받은 순으로 카톡친구들을 저장하기에 적합하다. 100\n",
    "# 번지부터 저장하면 이름 두 글자를 저장할 4바이트만큼 공간을 확보한 후 서로 다닥다닥 붙어있게 저장된다."
   ]
  },
  {
   "cell_type": "code",
   "execution_count": null,
   "metadata": {},
   "outputs": [],
   "source": [
    "# 선형리스트의 원리\n",
    "# 데이터 삽입 : 빈칸확보 --> 자리이동 --> 데이터삽입\n",
    "# 데이터 삭제 : 데이터삭제 --> 자리이동 --> 빈칸제거"
   ]
  },
  {
   "cell_type": "code",
   "execution_count": 25,
   "metadata": {},
   "outputs": [
    {
     "name": "stdout",
     "output_type": "stream",
     "text": [
      "1번째 친구가 입력된 후의 katok : ['다현']\n",
      "2번째 친구가 입력된 후의 katok : ['다현', '정연']\n",
      "3번째 친구가 입력된 후의 katok : ['다현', '정연', '쯔위']\n",
      "4번째 친구가 입력된 후의 katok : ['다현', '정연', '쯔위', '사나']\n",
      "5번째 친구가 입력된 후의 katok : ['다현', '정연', '쯔위', '사나', '지효']\n"
     ]
    }
   ],
   "source": [
    "# 선형리스트의 일반 구현\n",
    "\n",
    "katok = []    # 빈 배열생성. 카톡친구들을 저장할 역할을 한다.\n",
    "\n",
    "# 카톡친구들을 저장할 선형리스트를 생성하는 함수를 만든다.\n",
    "def add_data(friend):\n",
    "    katok.append(None)   # 리스트 맨뒤에 빈칸 하나를 만들고 None값을 넣어준다.\n",
    "    kLen = len(katok)\n",
    "    katok[kLen - 1] = friend  # 리스트 맨뒤에 friend를 넣어준다. \n",
    "\n",
    "friends = ['다현', '정연', '쯔위', '사나', '지효']\n",
    "for i, friend in enumerate(friends):\n",
    "    add_data(friend)\n",
    "    print(f\"{i+1}번째 친구가 입력된 후의 katok : {katok}\")"
   ]
  },
  {
   "cell_type": "code",
   "execution_count": 26,
   "metadata": {},
   "outputs": [],
   "source": [
    "def add_data_between(position, data):    # position은 0부터 시작한다.\n",
    "    \n",
    "    katok.append(None)\n",
    "    kLen = len(katok)\n",
    "    \n",
    "    for i in range(kLen-1, position, -1):\n",
    "        katok[i] = katok[i-1]\n",
    "        katok[i-1] = None\n",
    "    katok[position] = data\n",
    "    return katok      "
   ]
  },
  {
   "cell_type": "code",
   "execution_count": 27,
   "metadata": {},
   "outputs": [
    {
     "data": {
      "text/plain": [
       "['다현', '정연', '지영', '쯔위', '사나', '지효']"
      ]
     },
     "execution_count": 27,
     "metadata": {},
     "output_type": "execute_result"
    }
   ],
   "source": [
    "add_data_between(katok.index('쯔위'), '지영')"
   ]
  },
  {
   "cell_type": "code",
   "execution_count": 28,
   "metadata": {},
   "outputs": [
    {
     "data": {
      "text/plain": [
       "['다현', '정연', '지영', '쯔위', '사나', '지효', '루빈']"
      ]
     },
     "execution_count": 28,
     "metadata": {},
     "output_type": "execute_result"
    }
   ],
   "source": [
    "add_data_between(len(katok), '루빈')"
   ]
  },
  {
   "cell_type": "code",
   "execution_count": 6,
   "metadata": {},
   "outputs": [],
   "source": [
    "# 그런데 add_data_last()의 작동원리는 add_data_between()과 같다. 맨 마지막인 경우에는 kLen-1과 position이 같으므로\n",
    "# for문은 작동되지 않고 바로 빠져나온다. 결국 삽입할 위치가 중간이든 마지막이든 간에 동일한 코드가 작동하므로 삽입\n",
    "# 위치는 신경쓰지 않아도 된다.\n",
    "\n",
    "# 지금까지는 내가 만든 코드이고 이것보다 더 잘 정리된 책의 insert_data(position, friend)를 살펴보자.\n",
    "def insert_data(position, friend):        # position starts from 0\n",
    "    \n",
    "    if position < 0 or position > len(katok):\n",
    "        print(\"You're out of range!\")\n",
    "        return\n",
    "    \n",
    "    katok.append(None)                    # 마지막위치에 빈칸 추가\n",
    "    kLen = len(katok)                     # 배열의 현재 크기\n",
    "    \n",
    "    for i in range(kLen-1, position, -1):\n",
    "        katok[i] = katok[i-1]             # 마지막위치부터 position+1자리까지 데이터를 하나씩 이동하기 \n",
    "        katok[i-1] = None                 # 생겨난 빈자리에 None삽입하기\n",
    "    katok[position] = friend          # position에 friend 삽입하기  \n",
    "    "
   ]
  },
  {
   "cell_type": "code",
   "execution_count": 7,
   "metadata": {},
   "outputs": [],
   "source": [
    "katok = ['다현', '정연', '쯔위', '사나', '지효']"
   ]
  },
  {
   "cell_type": "code",
   "execution_count": 8,
   "metadata": {},
   "outputs": [
    {
     "data": {
      "text/plain": [
       "['다현', '정연', '루빈', '쯔위', '사나', '지효']"
      ]
     },
     "execution_count": 8,
     "metadata": {},
     "output_type": "execute_result"
    }
   ],
   "source": [
    "insert_data(2, '루빈')\n",
    "katok"
   ]
  },
  {
   "cell_type": "code",
   "execution_count": 9,
   "metadata": {},
   "outputs": [
    {
     "data": {
      "text/plain": [
       "['다현', '정연', '루빈', '쯔위', '사나', '지효', '지영']"
      ]
     },
     "execution_count": 9,
     "metadata": {},
     "output_type": "execute_result"
    }
   ],
   "source": [
    "insert_data(len(katok), '지영')\n",
    "katok"
   ]
  },
  {
   "cell_type": "code",
   "execution_count": 10,
   "metadata": {},
   "outputs": [],
   "source": [
    "# 이제 완성된 리스트에서 데이터를 삭제하는 방법을 구현해보자.\n",
    "def delete_data(position):\n",
    "    if position < 0 or position > len(katok):\n",
    "        print(\"You're out of range!\")\n",
    "        return\n",
    "    \n",
    "    kLen = len(katok)\n",
    "    katok[position] = None\n",
    "    for i in range(position+1, kLen):\n",
    "        katok[i-1] = katok[i]\n",
    "        katok[i] = None\n",
    "        \n",
    "    del katok[kLen-1]   "
   ]
  },
  {
   "cell_type": "code",
   "execution_count": 11,
   "metadata": {},
   "outputs": [
    {
     "name": "stdout",
     "output_type": "stream",
     "text": [
      "['다현', '루빈', '쯔위', '사나', '지효', '지영']\n"
     ]
    }
   ],
   "source": [
    "delete_data(1)\n",
    "print(katok)"
   ]
  },
  {
   "cell_type": "code",
   "execution_count": 13,
   "metadata": {},
   "outputs": [
    {
     "name": "stdout",
     "output_type": "stream",
     "text": [
      "['다현', '루빈', '쯔위', '사나', '지효']\n"
     ]
    }
   ],
   "source": [
    "delete_data(len(katok)-1)\n",
    "print(katok)"
   ]
  }
 ],
 "metadata": {
  "kernelspec": {
   "display_name": "Python 3.9.12 ('base')",
   "language": "python",
   "name": "python3"
  },
  "language_info": {
   "codemirror_mode": {
    "name": "ipython",
    "version": 3
   },
   "file_extension": ".py",
   "mimetype": "text/x-python",
   "name": "python",
   "nbconvert_exporter": "python",
   "pygments_lexer": "ipython3",
   "version": "3.9.12"
  },
  "orig_nbformat": 4,
  "vscode": {
   "interpreter": {
    "hash": "9e765a96e5f40489db376370017179d79de916a29247b681d0d65e2e01ae9302"
   }
  }
 },
 "nbformat": 4,
 "nbformat_minor": 2
}
