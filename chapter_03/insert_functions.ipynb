{
 "cells": [
  {
   "cell_type": "markdown",
   "metadata": {},
   "source": [
    "#### 함수 선언 부분"
   ]
  },
  {
   "cell_type": "code",
   "execution_count": 2,
   "metadata": {},
   "outputs": [],
   "source": [
    "def add_data(friend):\n",
    "    katok.append(None)\n",
    "    kLen = len(katok)\n",
    "    katok[kLen-1] = friend\n",
    "    \n",
    "def insert_data(position, friend):\n",
    "    if position < 0 or position > len(katok):\n",
    "        print(\"you are out of range.\")\n",
    "        return\n",
    "    \n",
    "    katok.append(None)\n",
    "    kLen = len(katok)\n",
    "    \n",
    "    for i in range(kLen-1, position, -1):\n",
    "        katok[i] = katok[i-1]\n",
    "        katok[i-1] = None\n",
    "        \n",
    "    katok[position] = friend\n",
    "    \n",
    "def delete_data(position):\n",
    "    if position < 0 or position > len(katok):\n",
    "        print(\"you are out of range.\")\n",
    "        return\n",
    "    \n",
    "    kLen = len(katok)\n",
    "    katok[position] = None\n",
    "    \n",
    "    for i in range(position+1, kLen):\n",
    "        katok[i-1] = katok[i]\n",
    "        katok[i] = None\n",
    "        \n",
    "    del katok[kLen-1]"
   ]
  },
  {
   "cell_type": "markdown",
   "metadata": {},
   "source": [
    "#### 전역 변수 선언 부분"
   ]
  },
  {
   "cell_type": "code",
   "execution_count": 3,
   "metadata": {},
   "outputs": [],
   "source": [
    "katok = []\n",
    "select = -1           # 1:추가, 2:삽입, 3:삭제, 4:종료"
   ]
  },
  {
   "cell_type": "markdown",
   "metadata": {},
   "source": [
    "#### 메인 코드 부분"
   ]
  },
  {
   "cell_type": "code",
   "execution_count": 7,
   "metadata": {},
   "outputs": [
    {
     "name": "stdout",
     "output_type": "stream",
     "text": [
      "['기원', '지영', '한용', '소영']\n",
      "['기원', '지영', '한용', '소영']\n"
     ]
    }
   ],
   "source": [
    "if __name__ == \"__main__\":\n",
    "    \n",
    "    while(select != 4):\n",
    "        select = int(input(\"선택하세요(1:추가, 2:삽입, 3:삭제, 4:종료) -->\"))\n",
    "        \n",
    "        if(select == 1):\n",
    "            data = input(\"추가할 데이터-->\")\n",
    "            add_data(data)\n",
    "            print(katok)\n",
    "            \n",
    "        elif(select == 2):\n",
    "            pos = int(input(\"삽입할 위치-->\"))\n",
    "            data = input(\"삽입할 데이터-->\")\n",
    "            insert_data(pos, data)\n",
    "            print(katok)\n",
    "            \n",
    "        elif(select == 3):\n",
    "            pos = int(input(\"삭제할 위치-->\"))\n",
    "            delete_data(pos)\n",
    "            print(katok)\n",
    "            \n",
    "        elif(select == 4):\n",
    "            print(katok)\n",
    "            exit\n",
    "        \n",
    "        else:\n",
    "            print(\"1~4 중 하나를 입력하세요.\")\n",
    "            continue"
   ]
  },
  {
   "cell_type": "code",
   "execution_count": 9,
   "metadata": {},
   "outputs": [
    {
     "data": {
      "text/plain": [
       "['기원', '지영', '한용', '소영']"
      ]
     },
     "execution_count": 9,
     "metadata": {},
     "output_type": "execute_result"
    }
   ],
   "source": [
    "katok"
   ]
  },
  {
   "cell_type": "code",
   "execution_count": null,
   "metadata": {},
   "outputs": [],
   "source": []
  }
 ],
 "metadata": {
  "kernelspec": {
   "display_name": "Python 3.9.12 ('base')",
   "language": "python",
   "name": "python3"
  },
  "language_info": {
   "codemirror_mode": {
    "name": "ipython",
    "version": 3
   },
   "file_extension": ".py",
   "mimetype": "text/x-python",
   "name": "python",
   "nbconvert_exporter": "python",
   "pygments_lexer": "ipython3",
   "version": "3.9.12"
  },
  "orig_nbformat": 4,
  "vscode": {
   "interpreter": {
    "hash": "9e765a96e5f40489db376370017179d79de916a29247b681d0d65e2e01ae9302"
   }
  }
 },
 "nbformat": 4,
 "nbformat_minor": 2
}
