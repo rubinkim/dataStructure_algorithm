{
 "cells": [
  {
   "cell_type": "code",
   "execution_count": 5,
   "metadata": {},
   "outputs": [],
   "source": [
    "class Node:\n",
    "    def __init__(self):\n",
    "        self.data = None\n",
    "        self.link = None\n",
    "\n",
    "def printNodes(start):\n",
    "    current = start\n",
    "    \n",
    "    if current == None:\n",
    "        return\n",
    "    print(current.data, end=' ')\n",
    "    \n",
    "    while(current.link):\n",
    "        current = current.link\n",
    "        print(current.data, end=' ')\n",
    "    print()\n"
   ]
  },
  {
   "cell_type": "markdown",
   "metadata": {},
   "source": [
    "##### 원형연결리스트의 일반구현"
   ]
  },
  {
   "cell_type": "code",
   "execution_count": 9,
   "metadata": {},
   "outputs": [],
   "source": [
    "# 데이터 개수가 제한적이지 않는 경우가 일반적이다.\n",
    "# 생성되는 모든 노드는 메모리에 저장한다. 메모리크기는 무햔대이고 실제로 노드의 위치나 순서는 가지런하지 않고 \n",
    "# 링크로만 연결된다. 변수 3개를 추가해서 사용한다. head는 첫번째 노드를 가리키고 current는 지금 처리중인 노드를 \n",
    "# 가리킨다. 그리고 pre는 지금 처리중인 노드(current)의 바로 앞 노드를 가리킨다. 처음에는 모두 비어 있으므로 다음과 \n",
    "# 같이 초기화한다.\n",
    "\n",
    "memory = []\n",
    "head, current, pre = None, None, None\n",
    "\n",
    "dataArray = [\"다현\",\"정연\",\"쯔위\",\"사나\",\"지효\"]"
   ]
  },
  {
   "cell_type": "markdown",
   "metadata": {},
   "source": [
    "##### 배열에 저장된 데이터 입력과정"
   ]
  },
  {
   "cell_type": "code",
   "execution_count": 8,
   "metadata": {},
   "outputs": [],
   "source": [
    "# 사용자가 입력하거나 배열에서 데이터를 추출한 후 값을 계속 단순연결리스트로 만드는 코드를 작성해보자.\n",
    "# 작동순서는 첫번째 데이터와 두번째 이후 데이터로 나누어 생각해 볼 수 있다.\n",
    "\n",
    "# 첫번째 데이터 입력과정은 1)빈노드를 생성 2)데이터 입력 3)첫번째 노드를 head로 지정 4)새노드의 링크를 head가\n",
    "# 가리키는 노드로 지정 5)노드를 메모리에 저장\n",
    "node = Node()\n",
    "node.data = dataArray[0]\n",
    "head = node\n",
    "node.link = head\n",
    "memory.append(node)\n",
    "\n",
    "# 두번째 이후 데이터 입력과정은 1)current노드를 잠시 임시저장하기 위해 pre노드에 저장 2)빈노드를 생성 3)데이터입력\n",
    "# 4)pre노드의 링크를 새노드에 연결 5)새노드의 링크를 head에 연결 6)노드를 메모리에 저장\n",
    "pre = node\n",
    "node = Node()\n",
    "node.data = dataArray[1]\n",
    "pre.link = node\n",
    "node.link = head\n",
    "memory.append(node)"
   ]
  },
  {
   "cell_type": "markdown",
   "metadata": {},
   "source": [
    "##### 원형연결리스트 생성코드"
   ]
  },
  {
   "cell_type": "code",
   "execution_count": 2,
   "metadata": {},
   "outputs": [],
   "source": [
    "# 클래스와 함수 선언부분\n",
    "class Node:\n",
    "    def __init__(self):\n",
    "        self.data = None\n",
    "        self.link = None\n",
    "        \n",
    "# 생성된 노드들을 연속적으로 출력하는 함수\n",
    "def printNodes(start):\n",
    "    current = start\n",
    "    \n",
    "    if current == None:\n",
    "        return\n",
    "    print(current.data, end=' ')\n",
    "    \n",
    "    while(current.link != start):\n",
    "        current = current.link\n",
    "        print(current.data, end=' ')\n",
    "    print()"
   ]
  },
  {
   "cell_type": "code",
   "execution_count": 3,
   "metadata": {},
   "outputs": [],
   "source": [
    "# 전역변수 선언부분\n",
    "memory = []\n",
    "head, current, pre = None, None, None\n",
    "\n",
    "dataArray = [\"다현\",\"정연\",\"쯔위\",\"사나\",\"지효\"]"
   ]
  },
  {
   "cell_type": "code",
   "execution_count": 4,
   "metadata": {},
   "outputs": [
    {
     "name": "stdout",
     "output_type": "stream",
     "text": [
      "다현 정연 쯔위 사나 지효 \n"
     ]
    }
   ],
   "source": [
    "# 메인 코드 부분\n",
    "if __name__ == \"__main__\":\n",
    "    node = Node()\n",
    "    node.data = dataArray[0]\n",
    "    head = node\n",
    "    node.link = head\n",
    "    memory.append(node)\n",
    "    \n",
    "    for data in dataArray[1:]:\n",
    "        pre = node\n",
    "        node = Node()\n",
    "        node.data = data\n",
    "        pre.link = node\n",
    "        node.link = head\n",
    "        memory.append(node)\n",
    "        \n",
    "    printNodes(head)"
   ]
  }
 ],
 "metadata": {
  "kernelspec": {
   "display_name": "Python 3.9.12 ('base')",
   "language": "python",
   "name": "python3"
  },
  "language_info": {
   "codemirror_mode": {
    "name": "ipython",
    "version": 3
   },
   "file_extension": ".py",
   "mimetype": "text/x-python",
   "name": "python",
   "nbconvert_exporter": "python",
   "pygments_lexer": "ipython3",
   "version": "3.9.12"
  },
  "orig_nbformat": 4,
  "vscode": {
   "interpreter": {
    "hash": "9e765a96e5f40489db376370017179d79de916a29247b681d0d65e2e01ae9302"
   }
  }
 },
 "nbformat": 4,
 "nbformat_minor": 2
}
