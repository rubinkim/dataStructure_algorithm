{
 "cells": [
  {
   "cell_type": "markdown",
   "metadata": {},
   "source": [
    "##### 원형연결리스트의 일반구현"
   ]
  },
  {
   "cell_type": "code",
   "execution_count": 1,
   "metadata": {},
   "outputs": [],
   "source": [
    "# 데이터 개수가 제한적이지 않는 경우가 일반적이다.\n",
    "# 생성되는 모든 노드는 메모리에 저장한다. 메모리크기는 무햔대이고 실제로 노드의 위치나 순서는 가지런하지 않고 \n",
    "# 링크로만 연결된다. 변수 3개를 추가해서 사용한다. head는 첫번째 노드를 가리키고 current는 지금 처리중인 노드를 \n",
    "# 가리킨다. 그리고 pre는 지금 처리중인 노드(current)의 바로 앞 노드를 가리킨다. 처음에는 모두 비어 있으므로 다음과 \n",
    "# 같이 초기화한다.\n",
    "\n",
    "memory = []\n",
    "head, current, pre = None, None, None"
   ]
  },
  {
   "cell_type": "code",
   "execution_count": null,
   "metadata": {},
   "outputs": [],
   "source": []
  }
 ],
 "metadata": {
  "kernelspec": {
   "display_name": "Python 3.9.12 ('base')",
   "language": "python",
   "name": "python3"
  },
  "language_info": {
   "codemirror_mode": {
    "name": "ipython",
    "version": 3
   },
   "file_extension": ".py",
   "mimetype": "text/x-python",
   "name": "python",
   "nbconvert_exporter": "python",
   "pygments_lexer": "ipython3",
   "version": "3.9.12"
  },
  "orig_nbformat": 4,
  "vscode": {
   "interpreter": {
    "hash": "9e765a96e5f40489db376370017179d79de916a29247b681d0d65e2e01ae9302"
   }
  }
 },
 "nbformat": 4,
 "nbformat_minor": 2
}
