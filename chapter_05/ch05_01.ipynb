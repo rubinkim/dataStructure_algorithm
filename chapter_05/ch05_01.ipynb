{
 "cells": [
  {
   "cell_type": "markdown",
   "metadata": {},
   "source": [
    "##### 원형 연결 리스트"
   ]
  },
  {
   "cell_type": "code",
   "execution_count": null,
   "metadata": {},
   "outputs": [],
   "source": [
    "# 원형연결리스트는 우리가 전장에서 배웠던 단순연결리스트와 구조와 구현코드가 상당히 유사하다.\n",
    "# 단순연결리스트는 배열에 데이터를 차례대로 저장하므로 그 순서대로 시작부터 끝까지 차례대로 방문할 수 있다.\n",
    "# 하지만 단순연결리스트는 끝까지 방문한 후에는 더 이상 방문할 곳이 없어 종료되므로 다시 방문하려면 head부터 다시 \n",
    "# 시작해야 한다. 반면에 원형연결리스트는 단순연결리스트의 마지막 노드가 다시 첫번째 노드를 가리키도록 설정되어 있어\n",
    "# 리스트 형태가 원(circle)의 모양아다. 예를 들어 마지막 노드인 지효가 다시 첫번째 노드인 다현을 가리키는 형태이므로\n",
    "# 계속 회전하면서 연속 방문이 가능하다.\n",
    "# 원형연결리스트의 장점은 단순연겨리스트처럼 데이터삽입에서 overhead가 발생하지 않는다는 것이다. 데이터삽입은 단순\n",
    "# 연결리스트와 동일하게 작동하지만 단지 마지막 노드가 첫번째 노드와 다시 연결된다는 것이다."
   ]
  },
  {
   "cell_type": "code",
   "execution_count": 1,
   "metadata": {},
   "outputs": [],
   "source": [
    "# 노드 구조\n",
    "# 단순연결리스트와 같은 구조를 가진 노드를 사용한다.(노드 = 데이터 + 링크)\n",
    "# 예를 들면 데이터에 '다현', '정연', '쯔위', '사나', '지효'가 하나씩 들어가고 링크에는 다음 노드를 가리키는 주소가 \n",
    "# 들어간다. 다현노드의 링크는 정연을 가리키고, 정연노드는 쯔위를 가리키고,....마지막 지효노드의 링크는 첫번째 노드인\n",
    "# 다현을 가리켜서 원형을 구성한다. \n",
    "# 원형연결리스트도 단순연결리스트처럼 첫번째 노드를 가리키는 head를 사용하며 리스트의 시작점으로 사용한다."
   ]
  },
  {
   "cell_type": "code",
   "execution_count": 2,
   "metadata": {},
   "outputs": [],
   "source": [
    "# 노드 삽입 : 정연노드와 쯔위노드사이에 재남노드를 삽입한다.\n",
    "# 재남노드를 생성한다. --> 재남노드의 링크에 정연노드의 링크를 복사한다. --> 정연노드의 링크가 재남노드를 가리킨다."
   ]
  },
  {
   "cell_type": "code",
   "execution_count": null,
   "metadata": {},
   "outputs": [],
   "source": [
    "# 노드 삭제 : 정연노드와 사나노드 사이에 있는 쯔위노드를 식제한다.\n",
    "# 정연노드의 링크에 쯔위노드의 링크를 복사한다. --> 쯔위노드를 삭제한다."
   ]
  }
 ],
 "metadata": {
  "kernelspec": {
   "display_name": "Python 3.9.12 ('base')",
   "language": "python",
   "name": "python3"
  },
  "language_info": {
   "codemirror_mode": {
    "name": "ipython",
    "version": 3
   },
   "file_extension": ".py",
   "mimetype": "text/x-python",
   "name": "python",
   "nbconvert_exporter": "python",
   "pygments_lexer": "ipython3",
   "version": "3.9.12"
  },
  "orig_nbformat": 4,
  "vscode": {
   "interpreter": {
    "hash": "9e765a96e5f40489db376370017179d79de916a29247b681d0d65e2e01ae9302"
   }
  }
 },
 "nbformat": 4,
 "nbformat_minor": 2
}
