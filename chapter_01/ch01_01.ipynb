{
 "cells": [
  {
   "cell_type": "markdown",
   "metadata": {},
   "source": [
    "##### 자료구조의 개념과 종류"
   ]
  },
  {
   "cell_type": "code",
   "execution_count": null,
   "metadata": {},
   "outputs": [],
   "source": [
    "# 자료구조란 컴퓨터 프로그래밍 언어에서 효율적인 자료(데이터)의 형태를 의미한다. 자료를 찾을 때 훨씬 빠르고 효율적인\n",
    "# 결과가 나올 수 있도록 해준다. 즉 데이터는 동일하지만 효율적인 자료구조에 저장함으로써 관리도 효율적이게 된다.\n",
    "# 단순 자료구조 : 정수, 실수, 문자, 문자열\n",
    "# 선형 자료구조 : 선형리스트, 연결리스트, 스택, 큐\n",
    "# 비선형 자료구조 : 트리, 그래프\n",
    "# 파일 자료구조 : 순차파일, 색인파일, 직접파일"
   ]
  }
 ],
 "metadata": {
  "language_info": {
   "name": "python"
  },
  "orig_nbformat": 4
 },
 "nbformat": 4,
 "nbformat_minor": 2
}
