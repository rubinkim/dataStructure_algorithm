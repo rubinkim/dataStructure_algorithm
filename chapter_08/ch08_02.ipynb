{
 "cells": [
  {
   "cell_type": "markdown",
   "metadata": {},
   "source": [
    "##### 이진탐색트리의 일반구현"
   ]
  },
  {
   "cell_type": "code",
   "execution_count": null,
   "metadata": {},
   "outputs": [],
   "source": [
    "# 이진탐색트리(binary search tree)는 이진트리중 활용도가 높은 트리로 데이터 크기를 기준으로 일정형태로 구성한다.\n",
    "# 한가지 예를 들면 root의 10값을 기준으로 왼쪽에는 10보다 작은값을 갖는 노드로 구성되어 있고, 오른쪽에는 10보다\n",
    "# 큰값을 갖는 노드로 구성되어 있다. 그리고 같은 방법으로 왼쪽 서브트리와 오른쪽 서브트리도 왼쪽에는 작은값으로\n",
    "# 오른쪽에는 큰값으로 구성되어 있다."
   ]
  }
 ],
 "metadata": {
  "language_info": {
   "name": "python"
  },
  "orig_nbformat": 4
 },
 "nbformat": 4,
 "nbformat_minor": 2
}
