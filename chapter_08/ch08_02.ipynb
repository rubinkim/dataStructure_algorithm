{
 "cells": [
  {
   "cell_type": "markdown",
   "metadata": {},
   "source": [
    "##### 이진탐색트리의 일반구현"
   ]
  },
  {
   "cell_type": "code",
   "execution_count": 1,
   "metadata": {},
   "outputs": [],
   "source": [
    "# 이진탐색트리(binary search tree)는 이진트리중 활용도가 높은 트리로 데이터 크기를 기준으로 일정형태로 구성한다.\n",
    "# 한가지 예를 들면 root의 10값을 기준으로 왼쪽에는 10보다 작은값을 갖는 노드로 구성되어 있고, 오른쪽에는 10보다\n",
    "# 큰값을 갖는 노드로 구성되어 있다. 그리고 같은 방법으로 왼쪽 서브트리와 오른쪽 서브트리도 왼쪽에는 작은값으로\n",
    "# 오른쪽에는 큰값으로 구성되어 있다. \n",
    "# 정리하면 이진탐색트리는 다음의 특징을 갖고 있다.\n",
    "# 1. 왼쪽 서브트리는 루트노드보다 모두 작은 값을 가진다.\n",
    "# 2. 오른쪽 서브트리는 루트노드보다 모두 큰 값을 가진다.\n",
    "# 3. 각 서브트리도 1,2 특징을 갖는다.\n",
    "# 4. 모드 노드 값은 중복되지 않는다. 즉 중복된 값은 이진탐색트리에 저장할 수 없다."
   ]
  },
  {
   "cell_type": "code",
   "execution_count": 2,
   "metadata": {},
   "outputs": [],
   "source": [
    "# 지금 생성하는 이진트리는 노드를 무햔대로 넣을 수 있도록 설계할 것이다. 책의 그림에서는 노드들이 가지런히 정렬되어\n",
    "# 있지만 실제로는 노드의 위치나 순서는 상관없이 서로 링크로만 연결되어 있다.\n",
    "\n",
    "# 1. 먼저 메모리를 준비하고 root는 None으로 초기화한다.\n",
    "memory = []\n",
    "root = None\n",
    "\n",
    "# 2. 배열에 있는 다음의 데이터를 이진탐색트리에 삽입한다.\n",
    "nameAry = ['블랙핑크','레드벨벳','에이핑크','걸스데이','트와이스','마마무']\n",
    "\n",
    "# 3. 먼저 배열의 첫번째 데이터를 최상위 노드로 지정하고 다음의 과정을 거친다.\n",
    "class TreeNode:\n",
    "    def __init__(self):\n",
    "        self.data = None\n",
    "        self.left = None\n",
    "        self.right = None\n",
    "        \n",
    "node = TreeNode()\n",
    "node.data = nameAry[0]\n",
    "root = node\n",
    "memory.append(node)\n",
    "\n",
    "# 4. 다음 두번째 이후 데이터를 삽입할 때는 이진탐색트리의 특징을 고려해야 한다. 즉 루트노드보다 입력할 데이터가 작으면\n",
    "# 왼쪽에 삽입하고 크면 오른쪽에 삽입하도록 코드를 작성해야 한다.\n",
    "name = nameAry[1]\n",
    "node = TreeNode()\n",
    "node.data = name\n",
    "current = root\n",
    "\n",
    "if name < current.data:\n",
    "    current.left = node\n",
    "else:\n",
    "    current.right = node\n",
    "memory.append(node)"
   ]
  },
  {
   "cell_type": "code",
   "execution_count": 7,
   "metadata": {},
   "outputs": [
    {
     "name": "stdout",
     "output_type": "stream",
     "text": [
      "이진탐색트리 구성완료!\n"
     ]
    }
   ],
   "source": [
    "# 이진탐색트리에서 데이터를 삽입하는 일반적인 형태를 알아보기로 하자.\n",
    "# 데이터를 삽입할 때는 삽입할 위치를 찾고자 루트부터 시작해서 왼쪽및 오른쪽 링크가 비어 있지 않은 경우를 찾아야 한다.\n",
    "# 즉 1단계에서는 현재작업노드(루트노드)와 비교해서 왼쪽링크냐 오른쪽링크냐를 지정해야 하고 만약 그 노드가 이미 차\n",
    "# 있다면 그 노드를 현재작업노드로 변경해야 한다. 이런 방법으로 계속 작업을 해나가야 한다.\n",
    "\n",
    "# 함수 선언 부분\n",
    "class TreeNode:\n",
    "    def __init__(self):\n",
    "        self.data = None\n",
    "        self.left = None\n",
    "        self.right = None\n",
    "\n",
    "# 전역변수 선언 부분\n",
    "memory = []\n",
    "root = None\n",
    "nameAry = ['블랙핑크','레드벨벳','마마무','에이핑크','걸스데이','트와이스']\n",
    "\n",
    "# 메인코드 부분\n",
    "node = TreeNode()\n",
    "node.data = nameAry[0]\n",
    "root = node\n",
    "memory.append(node)\n",
    "\n",
    "for name in nameAry[1:]:\n",
    "    node = TreeNode()\n",
    "    node.data = name\n",
    "    \n",
    "    current = root\n",
    "    while True:\n",
    "        if name < current.data:\n",
    "            if current.left == None:\n",
    "                current.left = node\n",
    "                break\n",
    "            current = current.left\n",
    "        else:\n",
    "            if current.right == None:\n",
    "                current.right = node\n",
    "                break\n",
    "            current = current.right\n",
    "    memory.append(node)\n",
    "    \n",
    "print(\"이진탐색트리 구성완료!\")"
   ]
  },
  {
   "cell_type": "code",
   "execution_count": 8,
   "metadata": {},
   "outputs": [
    {
     "data": {
      "text/plain": [
       "[<__main__.TreeNode at 0x28ea1e34850>,\n",
       " <__main__.TreeNode at 0x28ea2106a60>,\n",
       " <__main__.TreeNode at 0x28ea21fa0a0>,\n",
       " <__main__.TreeNode at 0x28ea2271250>,\n",
       " <__main__.TreeNode at 0x28ea22196d0>,\n",
       " <__main__.TreeNode at 0x28ea222f430>]"
      ]
     },
     "execution_count": 8,
     "metadata": {},
     "output_type": "execute_result"
    }
   ],
   "source": [
    "memory"
   ]
  }
 ],
 "metadata": {
  "kernelspec": {
   "display_name": "Python 3.9.12 ('base')",
   "language": "python",
   "name": "python3"
  },
  "language_info": {
   "codemirror_mode": {
    "name": "ipython",
    "version": 3
   },
   "file_extension": ".py",
   "mimetype": "text/x-python",
   "name": "python",
   "nbconvert_exporter": "python",
   "pygments_lexer": "ipython3",
   "version": "3.9.12"
  },
  "orig_nbformat": 4,
  "vscode": {
   "interpreter": {
    "hash": "9e765a96e5f40489db376370017179d79de916a29247b681d0d65e2e01ae9302"
   }
  }
 },
 "nbformat": 4,
 "nbformat_minor": 2
}
