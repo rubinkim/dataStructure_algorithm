{
 "cells": [
  {
   "cell_type": "markdown",
   "metadata": {},
   "source": [
    "##### 이진탐색트리에서 데이터 검색"
   ]
  },
  {
   "cell_type": "code",
   "execution_count": 1,
   "metadata": {},
   "outputs": [
    {
     "data": {
      "text/plain": [
       "'\\nif 현재작업노드의 데이터 == 찾을 데이터:\\n    탐색 종료\\nelif 현재작업노드의 데이터 < 찾을 데이터:\\n    왼쪽서브트리 탐색\\nelse:\\n    오른쪽서브트리 탐색    \\n'"
      ]
     },
     "execution_count": 1,
     "metadata": {},
     "output_type": "execute_result"
    }
   ],
   "source": [
    "# 이진탐색트리에서 데이터를 검색할 때도 루트노드부터 다음 과정을 진행한다.\n",
    "\"\"\"\n",
    "if 현재작업노드의 데이터 == 찾을 데이터:\n",
    "    탐색 종료\n",
    "elif 현재작업노드의 데이터 < 찾을 데이터:\n",
    "    왼쪽서브트리 탐색\n",
    "else:\n",
    "    오른쪽서브트리 탐색    \n",
    "\"\"\""
   ]
  },
  {
   "cell_type": "markdown",
   "metadata": {},
   "source": [
    "##### 이진탐색트리의 검색 작동"
   ]
  },
  {
   "cell_type": "code",
   "execution_count": 7,
   "metadata": {},
   "outputs": [],
   "source": [
    "# 함수 선언 부분\n",
    "class TreeNode:\n",
    "    def __init__(self):\n",
    "        self.data = None\n",
    "        self.left = None\n",
    "        self.right = None"
   ]
  },
  {
   "cell_type": "code",
   "execution_count": 8,
   "metadata": {},
   "outputs": [],
   "source": [
    "# 전역 변수 선언 부분\n",
    "memory = []\n",
    "root = None\n",
    "nameAry = [\"블랙핑크\",\"레드벨벳\",\"마마무\",\"에이핑크\",\"걸스데이\",\"트와이스\"]"
   ]
  },
  {
   "cell_type": "code",
   "execution_count": 9,
   "metadata": {},
   "outputs": [],
   "source": [
    "# 메인 코드 부분\n",
    "node = TreeNode()\n",
    "node.data = nameAry[0]\n",
    "root = node\n",
    "memory.append(node)\n",
    "\n",
    "for name in nameAry[1:]:\n",
    "    node = TreeNode()\n",
    "    node.data = name\n",
    "    \n",
    "    current = node\n",
    "    while True:\n",
    "        if name < current.data:\n",
    "            if current.left == None:\n",
    "                current.left = node\n",
    "                break\n",
    "            current = current.left\n",
    "            \n",
    "        else:\n",
    "            if current.right == None:\n",
    "                current.right = node\n",
    "                break\n",
    "            current = current.right\n",
    "            \n",
    "    memory.append(node)               "
   ]
  },
  {
   "cell_type": "code",
   "execution_count": 17,
   "metadata": {},
   "outputs": [
    {
     "name": "stdout",
     "output_type": "stream",
     "text": [
      "마마무 이(가) 트리에 없음!\n"
     ]
    }
   ],
   "source": [
    "findName = '마마무'\n",
    "\n",
    "current = root\n",
    "\n",
    "while True:\n",
    "    if findName == current.data:\n",
    "        print(findName, \"을(를) 찾았음.\")\n",
    "        break\n",
    "    \n",
    "    elif findName < current.data:\n",
    "        if current.left == None:\n",
    "            print(findName, \"이(가) 트리에 없음!\")\n",
    "            break\n",
    "        current = current.left\n",
    "        \n",
    "    else:\n",
    "        if current.right == None:\n",
    "            print(findName, \"이(가) 트리에 없음\")\n",
    "            break\n",
    "        current = current.right    "
   ]
  },
  {
   "cell_type": "code",
   "execution_count": 16,
   "metadata": {},
   "outputs": [
    {
     "name": "stdout",
     "output_type": "stream",
     "text": [
      "블랙핑크 레드벨벳 마마무 에이핑크 걸스데이 트와이스 "
     ]
    }
   ],
   "source": [
    "for m in memory:\n",
    "    print(m.data, end=' ')"
   ]
  }
 ],
 "metadata": {
  "kernelspec": {
   "display_name": "Python 3.9.12 ('base')",
   "language": "python",
   "name": "python3"
  },
  "language_info": {
   "codemirror_mode": {
    "name": "ipython",
    "version": 3
   },
   "file_extension": ".py",
   "mimetype": "text/x-python",
   "name": "python",
   "nbconvert_exporter": "python",
   "pygments_lexer": "ipython3",
   "version": "3.9.12"
  },
  "orig_nbformat": 4,
  "vscode": {
   "interpreter": {
    "hash": "9e765a96e5f40489db376370017179d79de916a29247b681d0d65e2e01ae9302"
   }
  }
 },
 "nbformat": 4,
 "nbformat_minor": 2
}
