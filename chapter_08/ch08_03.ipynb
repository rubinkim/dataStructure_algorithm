{
 "cells": [
  {
   "cell_type": "markdown",
   "metadata": {},
   "source": [
    "##### 이진탐색트리에서 데이터 검색"
   ]
  },
  {
   "cell_type": "code",
   "execution_count": 1,
   "metadata": {},
   "outputs": [
    {
     "data": {
      "text/plain": [
       "'\\nif 현재작업노드의 데이터 == 찾을 데이터:\\n    탐색 종료\\nelif 현재작업노드의 데이터 < 찾을 데이터:\\n    왼쪽서브트리 탐색\\nelse:\\n    오른쪽서브트리 탐색    \\n'"
      ]
     },
     "execution_count": 1,
     "metadata": {},
     "output_type": "execute_result"
    }
   ],
   "source": [
    "# 이진탐색트리에서 데이터를 검색할 때도 루트노드부터 다음 과정을 진행한다.\n",
    "\"\"\"\n",
    "if 현재작업노드의 데이터 == 찾을 데이터:\n",
    "    탐색 종료\n",
    "elif 현재작업노드의 데이터 < 찾을 데이터:\n",
    "    왼쪽서브트리 탐색\n",
    "else:\n",
    "    오른쪽서브트리 탐색    \n",
    "\"\"\""
   ]
  },
  {
   "cell_type": "code",
   "execution_count": null,
   "metadata": {},
   "outputs": [],
   "source": []
  }
 ],
 "metadata": {
  "kernelspec": {
   "display_name": "Python 3.9.12 ('base')",
   "language": "python",
   "name": "python3"
  },
  "language_info": {
   "codemirror_mode": {
    "name": "ipython",
    "version": 3
   },
   "file_extension": ".py",
   "mimetype": "text/x-python",
   "name": "python",
   "nbconvert_exporter": "python",
   "pygments_lexer": "ipython3",
   "version": "3.9.12"
  },
  "orig_nbformat": 4,
  "vscode": {
   "interpreter": {
    "hash": "9e765a96e5f40489db376370017179d79de916a29247b681d0d65e2e01ae9302"
   }
  }
 },
 "nbformat": 4,
 "nbformat_minor": 2
}
