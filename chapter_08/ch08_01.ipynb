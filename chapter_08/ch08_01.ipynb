{
 "cells": [
  {
   "cell_type": "markdown",
   "metadata": {},
   "source": [
    "##### 이진트리의 기본"
   ]
  },
  {
   "cell_type": "code",
   "execution_count": null,
   "metadata": {},
   "outputs": [],
   "source": [
    "# 이진트리의 개념\n",
    "\n",
    "# 트리자료구조는 나무를 거꾸로 뒤집어 놓은 형태다. 트리의 맨 위를 root라고 하며 level 0으로 두고 아래로 내려올수록\n",
    "# level이 1씩 증가한다. 트리의 각 위치를 node라고 하며 각 node들은 edge로 연결되어 있다. 부모-자식 관계에서 자식\n",
    "# node의 개수를 차수(degree)라고 한다. 자식이 없는 node, 차수가 0인 node를 leaf라고 한다.\n",
    "# 트리의 차수는 차수가 가장 높은 node를 기준으로 정한다. \n",
    "# 컴퓨터는 데이터를 0 또는 1로 표현하므로 트리 자료구조를 구현하려고 최대 차수가 2인 이진트리(binary tree)를 사용\n",
    "# 한다. 이진트리는 모든 노드의 자식이 최대 2개인 트리이다. 이진 트리는 모든 노드가 자식이 2개 이하로 구성돼 있다."
   ]
  }
 ],
 "metadata": {
  "language_info": {
   "name": "python"
  },
  "orig_nbformat": 4
 },
 "nbformat": 4,
 "nbformat_minor": 2
}
