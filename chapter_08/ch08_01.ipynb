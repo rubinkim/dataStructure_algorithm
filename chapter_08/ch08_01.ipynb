{
 "cells": [
  {
   "cell_type": "markdown",
   "metadata": {},
   "source": [
    "##### 이진트리의 기본"
   ]
  },
  {
   "cell_type": "code",
   "execution_count": 1,
   "metadata": {},
   "outputs": [],
   "source": [
    "# 이진트리의 개념\n",
    "\n",
    "# 트리자료구조는 나무를 거꾸로 뒤집어 놓은 형태다. 트리의 맨 위를 root라고 하며 level 0으로 두고 아래로 내려올수록\n",
    "# level이 1씩 증가한다. 트리의 각 위치를 node라고 하며 각 node들은 edge로 연결되어 있다. 부모-자식 관계에서 자식\n",
    "# node의 개수를 차수(degree)라고 한다. 자식이 없는 node, 차수가 0인 node를 leaf라고 한다.\n",
    "# 트리의 차수는 차수가 가장 높은 node를 기준으로 정한다. \n",
    "# 컴퓨터는 데이터를 0 또는 1로 표현하므로 트리 자료구조를 구현하려고 최대 차수가 2인 이진트리(binary tree)를 사용\n",
    "# 한다. 이진트리는 모든 노드의 자식이 최대 2개인 트리이다. 이진 트리는 모든 노드가 자식이 2개 이하로 구성돼 있다."
   ]
  },
  {
   "cell_type": "code",
   "execution_count": 2,
   "metadata": {},
   "outputs": [],
   "source": [
    "# 이진트리의 종류 : 포화이진트리, 완전이진트리, 편향이진트리\n",
    "\n",
    "# 포화이진트리(full binary tree)\n",
    "# 모든 노드가 꽉 차 있는 상태의 트리다. 노드개수는 2^(h+1) -1 (h:높이, vertical sum of edge)이다.\n",
    "# 이진트리에는 번호를 부여할 수 있는데 root node부터 왼쪽에서 오른쪽으로 그리고 위에서 아래로 번호를 부여한다.\n",
    "\n",
    "# 완전이진트리(complete binary tree)\n",
    "# 완전이진트리는 번호를 부여한 순서로 node가 배치된다. node가 일부 비어 있어도 되지만 끝 번호에 해당하는 node들이\n",
    "# 비어있어야지 끝 번호에 해당하는 node들은 차있는데 그 이전의 node들이 비어 있으면 그냥 이진트리이지 완전이진트리는\n",
    "# 아니다.\n",
    "\n",
    "# 편향이진트리(skewed binary tree)\n",
    "# 편향이진트리는 모든 node가 오른쪽이나 왼쪽으로 연결된 트리다. \n",
    "\n",
    "# 이진트리는 왼쪽자식과 오른쪽자식으로 구성된다. 그러므로 왼쪽과 오른쪽 링크가 있는 이중연결리스트 구조로 만들수 있다.\n",
    "# 이런 구조의 node를 활용해서 왼쪽 오른쪽 각각의 링크가 자식 node를 가리키도록 구성하고 가리킬 곳이 없는 링크는 그냥\n",
    "# 비워두면 된다."
   ]
  },
  {
   "cell_type": "markdown",
   "metadata": {},
   "source": [
    "##### 이진트리의 간단 구현"
   ]
  },
  {
   "cell_type": "code",
   "execution_count": 3,
   "metadata": {},
   "outputs": [
    {
     "name": "stdout",
     "output_type": "stream",
     "text": [
      "화사 \n",
      "솔라 문별 \n",
      "휘인 쯔위 선미 "
     ]
    }
   ],
   "source": [
    "# 이진트리의 생성 : 높이가 2이고 데이터가 6개인 완전이진트리를 구현해보자\n",
    "# 1)루트노드를 생성 --> 2)두번째노드를 생성하고 루트노드의 왼쪽링크로 지정 --> 3)세번째노드를 생성하고 루트노드의 \n",
    "# 오른쪽링크로 지정 --> 4).... 이런 방법으로 네번째부터 여섯번째까지 노드를 생성하고 부모노드와 연결한다.\n",
    "\n",
    "class TreeNode:\n",
    "    def __init__(self):\n",
    "        self.left = None\n",
    "        self.data = None\n",
    "        self.right = None\n",
    "        \n",
    "node1 = TreeNode()\n",
    "node1.data = '화사'\n",
    "\n",
    "node2 = TreeNode()\n",
    "node2.data = '솔라'\n",
    "node1.left = node2\n",
    "\n",
    "node3 = TreeNode()\n",
    "node3.data = '문별'\n",
    "node1.right = node3\n",
    "\n",
    "node4 = TreeNode()\n",
    "node4.data = '휘인'\n",
    "node2.left = node4\n",
    "\n",
    "node5 = TreeNode()\n",
    "node5.data = '쯔위'\n",
    "node2.right = node5\n",
    "\n",
    "node6 = TreeNode()\n",
    "node6.data = '선미'\n",
    "node3.left = node6\n",
    "\n",
    "print(node1.data, end=' ')\n",
    "print()  \n",
    "print(node1.left.data, node1.right.data, end=' ')\n",
    "print()\n",
    "print(node1.left.left.data, node1.left.right.data, node1.right.left.data, end=' ')  "
   ]
  },
  {
   "cell_type": "markdown",
   "metadata": {},
   "source": [
    "##### 이진트리의 순회(Traversal of binary tree)"
   ]
  },
  {
   "cell_type": "markdown",
   "metadata": {},
   "source": [
    "# 이진트리의 노드 전체를 한 번씩 방문하는 것을 순회(traversal)라고 한다. 자료구조로 데이터를 효율적으로 활용하는\n",
    "# 대표적인 방법은 필요한 데이터를 효과적으로 검색하는 것이다. 이를 위해 이진트리에서는 노드 데이터를 처리하는 순서에\n",
    "# 따라 전위순회(preorder traversal), 중위순회(inorder traversal), 후위순회(postorder traversal)를 사용할 수 있다.\n",
    "\n",
    "# 전위순회 : 노드의 데이터를 먼저 처리한다.\n",
    "# 1)현재노드 데이터처리 --> 2)왼쪽서브트리로 이동 --> 3)오른쪽서브트리로 이동\n",
    "\n",
    "# 중위순회 : 노드의 데이터를 중간에 처리한다.\n",
    "# 1)왼쪽서브트리로 이동 --> 2)현재노드 데이터처리 --> 3)오른쪽서브트리로 이동\n",
    "\n",
    "# 후위순회 : 노드의 데이터를 마지막에 처리한다.\n",
    "# 1)왼쪽서브트리로 이동 --> 2)오른쪽서브트리로 이동 --> 3)현재노드 데이터처리"
   ]
  }
 ],
 "metadata": {
  "kernelspec": {
   "display_name": "Python 3.9.12 ('base')",
   "language": "python",
   "name": "python3"
  },
  "language_info": {
   "codemirror_mode": {
    "name": "ipython",
    "version": 3
   },
   "file_extension": ".py",
   "mimetype": "text/x-python",
   "name": "python",
   "nbconvert_exporter": "python",
   "pygments_lexer": "ipython3",
   "version": "3.9.12"
  },
  "orig_nbformat": 4,
  "vscode": {
   "interpreter": {
    "hash": "9e765a96e5f40489db376370017179d79de916a29247b681d0d65e2e01ae9302"
   }
  }
 },
 "nbformat": 4,
 "nbformat_minor": 2
}
