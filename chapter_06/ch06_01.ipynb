{
 "cells": [
  {
   "cell_type": "code",
   "execution_count": 2,
   "metadata": {},
   "outputs": [],
   "source": [
    "# 함수 선언 부분\n",
    "\n",
    "# 스택이 꽉차있는지 확인하는 함수\n",
    "def isStackFull():\n",
    "    global SIZE, stack, top\n",
    "    \n",
    "    if top >= SIZE - 1:\n",
    "        return True\n",
    "    else:\n",
    "        return False\n",
    "    \n",
    "# 스택이 비어있는지 확인하는 함수\n",
    "def isStackEmpty():\n",
    "    global SIZE, stack, top\n",
    "    \n",
    "    if top == -1:\n",
    "        return True\n",
    "    else: \n",
    "        return False\n",
    "    \n",
    "# 스택에 데이터를 삽입하는 함수\n",
    "def push(data):\n",
    "    global SIZE, stack, top\n",
    "    \n",
    "    if isStackFull():\n",
    "        print(\"스택이 꽉 찼습니다.\")\n",
    "        return\n",
    "    \n",
    "    top += 1\n",
    "    stack[top] = data\n",
    "    \n",
    "# 스택에서 데이터를 추출하는 함수\n",
    "def pop():\n",
    "    global SIZE, stack, top\n",
    "    \n",
    "    if isStackEmpty():\n",
    "        print(\"스택이 비었습니다.\")\n",
    "        return None\n",
    "    \n",
    "    Data = stack[top]\n",
    "    stack[top] = None    \n",
    "    top -= 1\n",
    "    return Data\n",
    "\n",
    "def peek():\n",
    "    global SIZE, stack, top\n",
    "\n",
    "    if isStackEmpty():\n",
    "        print(\"스택이 비었습니다.\")\n",
    "        return None\n",
    "    \n",
    "    retData = stack[top]\n",
    "    return retData"
   ]
  },
  {
   "cell_type": "code",
   "execution_count": 3,
   "metadata": {},
   "outputs": [],
   "source": [
    "# 전역 변수 선언 부분\n",
    "SIZE = int(input(\"스택 크기를 입력해주세요 : \"))\n",
    "stack = [None for _ in range(SIZE)]\n",
    "top = -1"
   ]
  },
  {
   "cell_type": "code",
   "execution_count": 8,
   "metadata": {},
   "outputs": [
    {
     "name": "stdout",
     "output_type": "stream",
     "text": [
      "스택상태 :  ['rubin', 'kiwon', None, None, None]\n",
      "스택상태 :  ['rubin', 'kiwon', 'jiyoung', None, None]\n",
      "입력이 잘못됐습니다.\n",
      "프로그램 종료!\n"
     ]
    }
   ],
   "source": [
    "# 메인 코드 부분\n",
    "   \n",
    "select = input(\"삽입(I)/추출(E)/확인(V)/종료(X)중 하나를 선택하세요 : \")\n",
    "\n",
    "while select != 'X' or select != 'x':\n",
    "    \n",
    "    if select == 'I' or select == 'i':\n",
    "        data = input(\"데이터를 입력하세요 : \")\n",
    "        push(data)\n",
    "        print(\"스택상태 : \", stack)\n",
    "        \n",
    "    elif select == 'E' or select == 'e':\n",
    "        data = pop()\n",
    "        print(\"추출된 데이터 : \", data)\n",
    "        print(\"스택상태 : \", stack)\n",
    "        \n",
    "    elif select == 'V' or select == 'v':\n",
    "        data = peek()\n",
    "        print(\"확인된 데이터 : \", data)\n",
    "        print(\"스택상태 : \", stack)\n",
    "    \n",
    "    else:\n",
    "        print(\"입력이 잘못됐습니다.\")\n",
    "        break \n",
    "        \n",
    "    select = input(\"삽입(I)/추출(E)/확인(V)/종료(X)중 하나를 선택하세요 : \")\n",
    "    \n",
    "print(\"프로그램 종료!\")"
   ]
  },
  {
   "cell_type": "code",
   "execution_count": 9,
   "metadata": {},
   "outputs": [
    {
     "data": {
      "text/plain": [
       "['rubin', 'kiwon', 'jiyoung', None, None]"
      ]
     },
     "execution_count": 9,
     "metadata": {},
     "output_type": "execute_result"
    }
   ],
   "source": [
    "stack"
   ]
  },
  {
   "cell_type": "code",
   "execution_count": 11,
   "metadata": {},
   "outputs": [
    {
     "data": {
      "text/plain": [
       "(5, 2)"
      ]
     },
     "execution_count": 11,
     "metadata": {},
     "output_type": "execute_result"
    }
   ],
   "source": [
    "SIZE, top"
   ]
  },
  {
   "cell_type": "code",
   "execution_count": null,
   "metadata": {},
   "outputs": [],
   "source": []
  }
 ],
 "metadata": {
  "kernelspec": {
   "display_name": "Python 3.9.12 ('base')",
   "language": "python",
   "name": "python3"
  },
  "language_info": {
   "codemirror_mode": {
    "name": "ipython",
    "version": 3
   },
   "file_extension": ".py",
   "mimetype": "text/x-python",
   "name": "python",
   "nbconvert_exporter": "python",
   "pygments_lexer": "ipython3",
   "version": "3.9.12"
  },
  "orig_nbformat": 4,
  "vscode": {
   "interpreter": {
    "hash": "9e765a96e5f40489db376370017179d79de916a29247b681d0d65e2e01ae9302"
   }
  }
 },
 "nbformat": 4,
 "nbformat_minor": 2
}
