{
 "cells": [
  {
   "cell_type": "code",
   "execution_count": null,
   "metadata": {},
   "outputs": [],
   "source": [
    "# 함수 선언 부분\n",
    "\n",
    "# 스택이 꽉차있는지 확인하는 함수\n",
    "def isStackFull():\n",
    "    global SIZE, stack, top\n",
    "    \n",
    "    if top >= SIZE - 1:\n",
    "        return True\n",
    "    else:\n",
    "        return False\n",
    "    \n",
    "# 스택이 비어있는지 확인하는 함수\n",
    "def isStackEmpty():\n",
    "    global SIZE, stack, top\n",
    "    \n",
    "    if top == -1:\n",
    "        return True\n",
    "    else: \n",
    "        return False\n",
    "    \n",
    "# 스택에 데이터를 삽입하는 함수\n",
    "def push(data):\n",
    "    global SIZE, stack, top\n",
    "    \n",
    "    if isStackFull():\n",
    "        print(\"스택이 꽉 찼습니다.\")\n",
    "        return\n",
    "    \n",
    "    top += 1\n",
    "    stack[top] = data\n",
    "    \n",
    "    \n",
    "    "
   ]
  }
 ],
 "metadata": {
  "language_info": {
   "name": "python"
  },
  "orig_nbformat": 4
 },
 "nbformat": 4,
 "nbformat_minor": 2
}
