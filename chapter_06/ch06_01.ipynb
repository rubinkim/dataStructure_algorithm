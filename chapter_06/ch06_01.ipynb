{
 "cells": [
  {
   "cell_type": "code",
   "execution_count": null,
   "metadata": {},
   "outputs": [],
   "source": [
    "# 함수 선언 부분\n",
    "\n",
    "# 스택이 꽉차있는지 확인하는 함수\n",
    "def isStackFull():\n",
    "    global SIZE, stack, top\n",
    "    \n",
    "    if top >= SIZE - 1:\n",
    "        return True\n",
    "    else:\n",
    "        return False\n",
    "    \n",
    "#"
   ]
  }
 ],
 "metadata": {
  "language_info": {
   "name": "python"
  },
  "orig_nbformat": 4
 },
 "nbformat": 4,
 "nbformat_minor": 2
}
