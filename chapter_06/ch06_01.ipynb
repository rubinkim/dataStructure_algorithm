{
 "cells": [
  {
   "cell_type": "markdown",
   "metadata": {},
   "source": [
    "#### 스택 구현"
   ]
  },
  {
   "cell_type": "code",
   "execution_count": 1,
   "metadata": {},
   "outputs": [],
   "source": [
    "# 함수 선언 부분\n",
    "\n",
    "# 스택이 꽉차있는지 확인하는 함수\n",
    "def isStackFull():\n",
    "    global SIZE, stack, top\n",
    "    \n",
    "    if top >= SIZE - 1:\n",
    "        return True\n",
    "    else:\n",
    "        return False\n",
    "    \n",
    "# 스택이 비어있는지 확인하는 함수\n",
    "def isStackEmpty():\n",
    "    global SIZE, stack, top\n",
    "    \n",
    "    if top == -1:\n",
    "        return True\n",
    "    else: \n",
    "        return False\n",
    "    \n",
    "# 스택에 데이터를 삽입하는 함수\n",
    "def push(data):\n",
    "    global SIZE, stack, top\n",
    "    \n",
    "    if isStackFull():\n",
    "        print(\"스택이 꽉 찼습니다.\")\n",
    "        return\n",
    "    \n",
    "    top += 1\n",
    "    stack[top] = data\n",
    "    \n",
    "# 스택에서 데이터를 추출하는 함수\n",
    "def pop():\n",
    "    global SIZE, stack, top\n",
    "    \n",
    "    if isStackEmpty():\n",
    "        print(\"스택이 비었습니다.\")\n",
    "        return None\n",
    "    \n",
    "    Data = stack[top]\n",
    "    stack[top] = None    \n",
    "    top -= 1\n",
    "    return Data\n",
    "\n",
    "def peek():\n",
    "    global SIZE, stack, top\n",
    "\n",
    "    if isStackEmpty():\n",
    "        print(\"스택이 비었습니다.\")\n",
    "        return None\n",
    "    \n",
    "    retData = stack[top]\n",
    "    return retData"
   ]
  },
  {
   "cell_type": "code",
   "execution_count": 2,
   "metadata": {},
   "outputs": [],
   "source": [
    "# 전역 변수 선언 부분\n",
    "SIZE = int(input(\"스택 크기를 입력해주세요 : \"))\n",
    "stack = [None for _ in range(SIZE)]\n",
    "top = -1"
   ]
  },
  {
   "cell_type": "code",
   "execution_count": 6,
   "metadata": {},
   "outputs": [
    {
     "name": "stdout",
     "output_type": "stream",
     "text": [
      "스택상태 :  ['구준', '루빈', None, None, None, None, None]\n",
      "스택상태 :  ['구준', '루빈', '소영', None, None, None, None]\n",
      "스택상태 :  ['구준', '루빈', '소영', '기원', None, None, None]\n",
      "스택상태 :  ['구준', '루빈', '소영', '기원', '지영', None, None]\n",
      "입력이 잘못됐습니다.\n",
      "프로그램 종료!\n"
     ]
    }
   ],
   "source": [
    "# 메인 코드 부분\n",
    "   \n",
    "select = input(\"삽입(I)/추출(E)/확인(V)/종료(X)중 하나를 선택하세요 : \")\n",
    "\n",
    "while select != 'X' or select != 'x':\n",
    "    \n",
    "    if select == 'I' or select == 'i':\n",
    "        data = input(\"데이터를 입력하세요 : \")\n",
    "        push(data)\n",
    "        print(\"스택상태 : \", stack)\n",
    "        \n",
    "    elif select == 'E' or select == 'e':\n",
    "        data = pop()\n",
    "        print(\"추출된 데이터 : \", data)\n",
    "        print(\"스택상태 : \", stack)\n",
    "        \n",
    "    elif select == 'V' or select == 'v':\n",
    "        data = peek()\n",
    "        print(\"확인된 데이터 : \", data)\n",
    "        print(\"스택상태 : \", stack)\n",
    "    \n",
    "    else:\n",
    "        print(\"입력이 잘못됐습니다.\")\n",
    "        break \n",
    "        \n",
    "    select = input(\"삽입(I)/추출(E)/확인(V)/종료(X)중 하나를 선택하세요 : \")\n",
    "    \n",
    "print(\"프로그램 종료!\")"
   ]
  },
  {
   "cell_type": "code",
   "execution_count": 7,
   "metadata": {},
   "outputs": [
    {
     "data": {
      "text/plain": [
       "['구준', '루빈', '소영', '기원', '지영', None, None]"
      ]
     },
     "execution_count": 7,
     "metadata": {},
     "output_type": "execute_result"
    }
   ],
   "source": [
    "stack"
   ]
  },
  {
   "cell_type": "code",
   "execution_count": 8,
   "metadata": {},
   "outputs": [
    {
     "data": {
      "text/plain": [
       "(7, 4)"
      ]
     },
     "execution_count": 8,
     "metadata": {},
     "output_type": "execute_result"
    }
   ],
   "source": [
    "SIZE, top"
   ]
  },
  {
   "cell_type": "markdown",
   "metadata": {},
   "source": [
    "#### 큐(Queue) 구현"
   ]
  },
  {
   "cell_type": "code",
   "execution_count": null,
   "metadata": {},
   "outputs": [],
   "source": [
    "# 1. 큐의 생성\n",
    "# 큐는 배열 형태로 구현할 수 있다. front는 큐의 머리, rear는 큐의 꼬리를 가리킨다. 초기에 데이터가 없을 때는 둘다\n",
    "# -1로 초기화된다. 즉 fron와 rear가 둘 다 -1이면 초기 상태이고 큐가 비었다는 의미이다.\n",
    "\n",
    "# 2. 데이터 삽입 : enQueue\n",
    "# 생성한 큐에 데이터를 삽입하려면 1)우선 rear를 1 증가시킨 후 2)rear위치에 데이터를 넣는다.\n",
    "# 단 삽입할 때는 큐가 이미 꽉 찼는지 확인해야 한다(isQueueFull). 꽉 찼다면 더는 삽입되지 않도록 해야 한다. \n",
    "\n",
    "# 3. 데이터 추출 : deQueue\n",
    "# 데이터를 추출하기 전에 큐에 데이터가 있는지 확인해야 한다(isQueueEmpty)\n",
    "# 비어 있지 않다면 큐에서 데이터를 추출하기 위해 1)front를 1 증가시킨 후 2)front 위치의 데이터를 밖으로 추출하고 \n",
    "# 3)front위치의 데이터는 None으로 만든다. \n",
    "\n",
    "# 4. 데이터 확인 : peek\n",
    "# 데이터를 deQueue하면 front가 오른쪽으로 한칸 옮겨지고 해당 데이터가 큐에서 추출되어 삭제된다. 즉 데이터를 뽑아내는\n",
    "# 횩과를 주는 것이다. 이것과는 다르게 단지 다음에 추출될 데이터를 큐에 그대로 두고 확인만 하는 것을 peek이라고 한다."
   ]
  },
  {
   "cell_type": "markdown",
   "metadata": {},
   "source": [
    "#### 큐의 완성 : 큐 작동을 위한 통합 코드"
   ]
  },
  {
   "cell_type": "code",
   "execution_count": 1,
   "metadata": {},
   "outputs": [],
   "source": [
    "## 함수 선언 부분 ##\n",
    "def isQueueFull():\n",
    "    global SIZE, queue, front, rear\n",
    "    if rear == SIZE - 1:\n",
    "        return True\n",
    "    else:\n",
    "        return False\n",
    "    \n",
    "def isQueueEmpty():\n",
    "    global SIZE, queue, front, rear\n",
    "    if front == rear:\n",
    "        return True\n",
    "    else:\n",
    "        return False\n",
    "    \n",
    "def enQueue(data):\n",
    "    global SIZE, queue, front, rear\n",
    "    if isQueueFull():\n",
    "        print(\"큐가 이미 꽉 찼습니다.\")\n",
    "        return\n",
    "    rear += 1\n",
    "    queue[rear] = data\n",
    "    \n",
    "def deQueue():\n",
    "    global SIZE, queue, front, rear\n",
    "    if isQueueEmpty():\n",
    "        print(\"큐가 비었습니다.\")\n",
    "        return\n",
    "    front += 1\n",
    "    data = queue[front]\n",
    "    queue[front] = None\n",
    "    return data\n",
    "\n",
    "def peek():\n",
    "    global SIZE, queue, front, rear\n",
    "    if isQueueEmpty():\n",
    "        print(\"큐가 비었습니다.\")\n",
    "        return None\n",
    "    front += 1\n",
    "    retData = queue[front]\n",
    "    return retData      "
   ]
  },
  {
   "cell_type": "code",
   "execution_count": 2,
   "metadata": {},
   "outputs": [],
   "source": [
    "# 전역 변수 선언 부분\n",
    "SIZE = int(input(\"큐 크기를 입력하세요 : \"))\n",
    "queue = [None for _ in range(SIZE)]\n",
    "front = rear = -1"
   ]
  },
  {
   "cell_type": "code",
   "execution_count": 3,
   "metadata": {},
   "outputs": [
    {
     "data": {
      "text/plain": [
       "5"
      ]
     },
     "execution_count": 3,
     "metadata": {},
     "output_type": "execute_result"
    }
   ],
   "source": [
    "# 메인 코드 부분\n",
    "if __name__ == \"__main__\":\n",
    "    select = input(\"삽입(I)/추출(E)/확인(E)/종료(X) 중 하나를 선택 : \")\n",
    "    \n",
    "    while select != \"X\" or select != \"x\":\n",
    "        if select == \"I\" or select == 'i':\n",
    "            data = input(\"입력할 데이터 : \")\n",
    "            enQueue(data)\n",
    "            print(f\"큐상태 : {queue}\")\n",
    "            \n",
    "            \n",
    "        "
   ]
  }
 ],
 "metadata": {
  "kernelspec": {
   "display_name": "Python 3.9.12 ('base')",
   "language": "python",
   "name": "python3"
  },
  "language_info": {
   "codemirror_mode": {
    "name": "ipython",
    "version": 3
   },
   "file_extension": ".py",
   "mimetype": "text/x-python",
   "name": "python",
   "nbconvert_exporter": "python",
   "pygments_lexer": "ipython3",
   "version": "3.9.12"
  },
  "orig_nbformat": 4,
  "vscode": {
   "interpreter": {
    "hash": "9e765a96e5f40489db376370017179d79de916a29247b681d0d65e2e01ae9302"
   }
  }
 },
 "nbformat": 4,
 "nbformat_minor": 2
}
